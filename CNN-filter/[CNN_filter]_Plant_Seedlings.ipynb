{
  "nbformat": 4,
  "nbformat_minor": 0,
  "metadata": {
    "colab": {
      "name": "[CNN_filter]_Plant_Seedlings.ipynb",
      "provenance": [],
      "collapsed_sections": [],
      "toc_visible": true
    },
    "kernelspec": {
      "name": "python3",
      "display_name": "Python 3"
    },
    "accelerator": "GPU"
  },
  "cells": [
    {
      "cell_type": "code",
      "metadata": {
        "id": "tviqi2yaN5dU",
        "colab_type": "code",
        "colab": {}
      },
      "source": [
        "!pip3 uninstall -y kaggle\n",
        "!pip3 install --upgrade pip\n",
        "!pip3 install kaggle==1.5.6\n",
        "!kaggle -v\n",
        "\n",
        "!mkdir /root/.kaggle\n",
        "## Upload the kaggle.json file.\n",
        "!cp kaggle.json /root/.kaggle/kaggle.json\n",
        "!chmod 600 /root/.kaggle/kaggle.json"
      ],
      "execution_count": 0,
      "outputs": []
    },
    {
      "cell_type": "code",
      "metadata": {
        "id": "1A3YzlP1S3Ke",
        "colab_type": "code",
        "colab": {}
      },
      "source": [
        "!kaggle competitions download -c plant-seedlings-classification\n",
        "!unzip plant-seedlings-classification.zip\n",
        "!rm plant-seedlings-classification.zip sample_submission.csv"
      ],
      "execution_count": 0,
      "outputs": []
    },
    {
      "cell_type": "code",
      "metadata": {
        "id": "TIvQSIH6T4Ta",
        "colab_type": "code",
        "colab": {}
      },
      "source": [
        "%matplotlib inline\n",
        "import matplotlib.pyplot as plt\n",
        "\n",
        "import numpy as np\n",
        "import pandas as pd\n",
        "\n",
        "import os\n",
        "import cv2\n",
        "import math\n",
        "import itertools\n",
        "\n",
        "\n",
        "from glob import glob\n",
        "from sklearn import preprocessing\n",
        "from sklearn.model_selection import train_test_split\n",
        "from sklearn.metrics import confusion_matrix\n",
        "\n",
        "\n",
        "%tensorflow_version 1.x\n",
        "from tensorflow.keras.utils import to_categorical\n",
        "from tensorflow.keras.models import Sequential\n",
        "from tensorflow.keras.layers import Conv2D, MaxPooling2D, GlobalAveragePooling2D, Dense, Dropout, Activation, Flatten, BatchNormalization, LeakyReLU\n",
        "from tensorflow.keras.optimizers import RMSprop, Adadelta, SGD, Adam\n",
        "from tensorflow.keras.regularizers import l2\n",
        "from tensorflow.keras.preprocessing.image import ImageDataGenerator\n",
        "from tensorflow.keras.callbacks import LearningRateScheduler, EarlyStopping, ReduceLROnPlateau, ModelCheckpoint\n",
        "from tensorflow.keras.optimizers.schedules import ExponentialDecay"
      ],
      "execution_count": 0,
      "outputs": []
    },
    {
      "cell_type": "markdown",
      "metadata": {
        "id": "bq8FkGGcb9vh",
        "colab_type": "text"
      },
      "source": [
        "# Constants"
      ]
    },
    {
      "cell_type": "code",
      "metadata": {
        "id": "-ti20kvWZ48j",
        "colab_type": "code",
        "colab": {}
      },
      "source": [
        "TRAIN_DIRECTORY = \"train\"\n",
        "TEST_DIRECTORY = \"test\"\n",
        "IMG_HEIGHT = 70\n",
        "IMG_WIDTH = 70\n",
        "CATEGORIES = os.listdir(TRAIN_DIRECTORY)\n",
        "num_classes = len(CATEGORIES)\n",
        "\n",
        "lwr_hsv = (25,40,50)\n",
        "upr_hsv = (75,255,255)\n",
        "\n"
      ],
      "execution_count": 0,
      "outputs": []
    },
    {
      "cell_type": "markdown",
      "metadata": {
        "id": "6AcDYHwEb_zw",
        "colab_type": "text"
      },
      "source": [
        "# Data Loading"
      ]
    },
    {
      "cell_type": "code",
      "metadata": {
        "id": "uz_o7Io2wq80",
        "colab_type": "code",
        "outputId": "a6e5fec4-a80c-4d8a-8d89-f9fb54af1bfc",
        "colab": {
          "base_uri": "https://localhost:8080/",
          "height": 53
        }
      },
      "source": [
        "path_to_all_files = TRAIN_DIRECTORY + '/*/*.png' \n",
        "files = glob(path_to_all_files)\n",
        "\n",
        "trainImg = []\n",
        "trainLabel = []\n",
        "num = len(files)\n",
        "\n",
        "# Obtain images and resizing, obtain labels\n",
        "for imag in files:\n",
        "    \n",
        "    img = cv2.imread(imag)\n",
        "\n",
        "    blurr = cv2.GaussianBlur(img,(5,5),0)\n",
        "    hsv = cv2.cvtColor(blurr,cv2.COLOR_BGR2HSV)\n",
        "    mask = cv2.inRange(hsv,lwr_hsv,upr_hsv)\n",
        "    struc = cv2.getStructuringElement(cv2.MORPH_ELLIPSE,(11,11))\n",
        "    mask = cv2.morphologyEx(mask,cv2.MORPH_CLOSE,struc)\n",
        "    boolean = mask>0\n",
        "    new_img = np.zeros_like(img,np.uint8)\n",
        "    new_img[boolean] = img[boolean]\n",
        "    res_img = new_img\n",
        "\n",
        "\n",
        "    rez_img = cv2.resize(res_img, dsize =(IMG_WIDTH, IMG_HEIGHT),interpolation = cv2.INTER_AREA)\n",
        "    rez_img = rez_img.reshape(IMG_WIDTH, IMG_HEIGHT, 3)\n",
        "    trainImg.append(rez_img)\n",
        "    \n",
        "    trainLabel.append(imag.split('/')[-2])  # Get image label (folder name)\n",
        "\n",
        "trainImg = np.asarray(trainImg)  # Train images set\n",
        "trainLabel = pd.DataFrame(trainLabel)  # Train labels set\n",
        "\n",
        "print(trainImg.shape)\n",
        "print(trainLabel.shape)"
      ],
      "execution_count": 5,
      "outputs": [
        {
          "output_type": "stream",
          "text": [
            "(4750, 70, 70, 3)\n",
            "(4750, 1)\n"
          ],
          "name": "stdout"
        }
      ]
    },
    {
      "cell_type": "code",
      "metadata": {
        "id": "JK-WE8HmwrWw",
        "colab_type": "code",
        "outputId": "e3337bf0-06e3-4fb0-c1b6-67e928ba5e0f",
        "colab": {
          "base_uri": "https://localhost:8080/",
          "height": 243
        }
      },
      "source": [
        "for i in range(8):\n",
        "    plt.subplot(2, 4, i + 1)\n",
        "    plt.imshow(trainImg[i*20])"
      ],
      "execution_count": 6,
      "outputs": [
        {
          "output_type": "display_data",
          "data": {
            "image/png": "[encoded data removed]",
            "text/plain": [
              "<Figure size 432x288 with 8 Axes>"
            ]
          },
          "metadata": {
            "tags": []
          }
        }
      ]
    },
    {
      "cell_type": "markdown",
      "metadata": {
        "id": "I_XBb2GEy-YL",
        "colab_type": "text"
      },
      "source": [
        "# Cleaning data"
      ]
    },
    {
      "cell_type": "markdown",
      "metadata": {
        "id": "VKlGbXSgzXdF",
        "colab_type": "text"
      },
      "source": [
        "## Normalize Input & Categorize Labels"
      ]
    },
    {
      "cell_type": "code",
      "metadata": {
        "id": "wGfk80uUzcpC",
        "colab_type": "code",
        "colab": {}
      },
      "source": [
        "trainImg = trainImg / 255"
      ],
      "execution_count": 0,
      "outputs": []
    },
    {
      "cell_type": "code",
      "metadata": {
        "id": "zK83iYHfzcnP",
        "colab_type": "code",
        "outputId": "c904d983-7873-492e-ef1a-b1238670959a",
        "colab": {
          "base_uri": "https://localhost:8080/",
          "height": 416
        }
      },
      "source": [
        "le = preprocessing.LabelEncoder()\n",
        "encodeTrainLabels = le.fit_transform(trainLabel[0])\n",
        "clearTrainLabel = to_categorical(encodeTrainLabels)\n",
        "\n",
        "# Plot of label types numbers\n",
        "trainLabel[0].value_counts().plot(kind='bar', title=\"# classes:\" + str(clearTrainLabel.shape[1]))\n"
      ],
      "execution_count": 8,
      "outputs": [
        {
          "output_type": "execute_result",
          "data": {
            "text/plain": [
              "<matplotlib.axes._subplots.AxesSubplot at 0x7fc44f77db00>"
            ]
          },
          "metadata": {
            "tags": []
          },
          "execution_count": 8
        },
        {
          "output_type": "display_data",
          "data": {
            "image/png": "[encoded data removed]",
            "text/plain": [
              "<Figure size 432x288 with 1 Axes>"
            ]
          },
          "metadata": {
            "tags": []
          }
        }
      ]
    },
    {
      "cell_type": "markdown",
      "metadata": {
        "id": "lfNky0yTcD_C",
        "colab_type": "text"
      },
      "source": [
        "# Model Definition"
      ]
    },
    {
      "cell_type": "markdown",
      "metadata": {
        "id": "-yfs8lqX2CQv",
        "colab_type": "text"
      },
      "source": [
        "## Data splitting and Generator"
      ]
    },
    {
      "cell_type": "code",
      "metadata": {
        "id": "O0Z5tH3S2Bjg",
        "colab_type": "code",
        "colab": {}
      },
      "source": [
        "X_train, X_valid, y_train, y_valid = train_test_split(trainImg, clearTrainLabel, \n",
        "                                                test_size=0.2, random_state=33, \n",
        "                                                stratify = clearTrainLabel)"
      ],
      "execution_count": 0,
      "outputs": []
    },
    {
      "cell_type": "code",
      "metadata": {
        "id": "4PbdbKNt2iiM",
        "colab_type": "code",
        "colab": {}
      },
      "source": [
        "datagen = ImageDataGenerator(\n",
        "        featurewise_center=False,  # set input mean to 0 over the dataset\n",
        "        samplewise_center=False,  # set each sample mean to 0\n",
        "        featurewise_std_normalization=False,  # divide inputs by std of the dataset\n",
        "        samplewise_std_normalization=False,  # divide each input by its std\n",
        "        zca_whitening=False,  # apply ZCA whitening\n",
        "        rotation_range=180,  # randomly rotate images in the range (degrees, 0 to 180)\n",
        "        zoom_range = 0.3, # Randomly zoom image\n",
        "        width_shift_range=0.2,  # randomly shift images horizontally (fraction of total width)\n",
        "        height_shift_range=0.2,  # randomly shift images vertically (fraction of total height)\n",
        "        horizontal_flip=True,  # randomly flip images\n",
        "        vertical_flip=True, # randomly flip images\n",
        "        )\n",
        "\n",
        "datagen.fit(X_train)"
      ],
      "execution_count": 0,
      "outputs": []
    },
    {
      "cell_type": "markdown",
      "metadata": {
        "id": "QTzKJVGh2K88",
        "colab_type": "text"
      },
      "source": [
        "## Model Architecture"
      ]
    },
    {
      "cell_type": "code",
      "metadata": {
        "id": "dMpN7QMtcGha",
        "colab_type": "code",
        "outputId": "d27baa21-7828-4adf-dc22-66ce3dd597fd",
        "colab": {
          "base_uri": "https://localhost:8080/",
          "height": 1000
        }
      },
      "source": [
        "model = Sequential()\n",
        "\n",
        "model.add(Conv2D(filters=64, kernel_size=(5, 5), padding='same', input_shape=(IMG_WIDTH, IMG_WIDTH, 3)))\n",
        "model.add(BatchNormalization(axis=3))\n",
        "model.add(LeakyReLU(0.1))\n",
        "\n",
        "model.add(Conv2D(filters=64,kernel_size=(5, 5), padding='same'))\n",
        "model.add(BatchNormalization(axis=3))\n",
        "model.add(LeakyReLU(0.1))\n",
        "\n",
        "model.add(MaxPooling2D(pool_size=(3,3), strides=(2,2)))\n",
        "\n",
        "model.add(Conv2D(filters=128, kernel_size=(5, 5), padding='same'))\n",
        "model.add(BatchNormalization(axis=3))\n",
        "model.add(LeakyReLU(0.1))\n",
        "\n",
        "model.add(Conv2D(filters=128, kernel_size=(5, 5), padding='same'))\n",
        "model.add(BatchNormalization(axis=3))\n",
        "model.add(LeakyReLU(0.1))\n",
        "\n",
        "model.add(MaxPooling2D(pool_size=(3,3), strides=(2,2)))\n",
        "\n",
        "model.add(Conv2D(filters=256, kernel_size=(5, 5), padding='same'))\n",
        "model.add(BatchNormalization(axis=3))\n",
        "model.add(LeakyReLU(0.1))\n",
        "\n",
        "model.add(Conv2D(filters=256, kernel_size=(5, 5), padding='same'))\n",
        "model.add(BatchNormalization(axis=3))\n",
        "model.add(LeakyReLU(0.1))\n",
        "\n",
        "model.add(Conv2D(filters=256, kernel_size=(5, 5), padding='same'))\n",
        "model.add(BatchNormalization(axis=3))\n",
        "model.add(LeakyReLU(0.1))\n",
        "\n",
        "model.add(MaxPooling2D(pool_size=(3,3), strides=(2,2)))\n",
        "\n",
        "model.add(Conv2D(filters=256, kernel_size=(5, 5), padding='same'))\n",
        "model.add(BatchNormalization(axis=3))\n",
        "model.add(LeakyReLU(0.1))\n",
        "\n",
        "model.add(MaxPooling2D(pool_size=(3,3), strides=(2,2)))\n",
        "\n",
        "model.add(Flatten())\n",
        "\n",
        "model.add(Dropout(0.3))\n",
        "model.add(Dense(128))\n",
        "model.add(BatchNormalization(axis=-1))\n",
        "model.add(Activation('relu'))\n",
        "\n",
        "\n",
        "model.add(Dropout(0.3))\n",
        "model.add(Dense(num_classes))\n",
        "model.add(BatchNormalization(axis=-1))\n",
        "model.add(Activation('softmax'))\n",
        "\n",
        "model.compile(loss='categorical_crossentropy', optimizer='adam', metrics=['accuracy'])\n",
        "\n",
        "model.summary()"
      ],
      "execution_count": 11,
      "outputs": [
        {
          "output_type": "stream",
          "text": [
            "WARNING:tensorflow:From /usr/local/lib/python3.6/dist-packages/tensorflow_core/python/ops/resource_variable_ops.py:1630: calling BaseResourceVariable.__init__ (from tensorflow.python.ops.resource_variable_ops) with constraint is deprecated and will be removed in a future version.\n",
            "Instructions for updating:\n",
            "If using Keras pass *_constraint arguments to layers.\n",
            "Model: \"sequential\"\n",
            "_________________________________________________________________\n",
            "Layer (type)                 Output Shape              Param #   \n",
            "=================================================================\n",
            "conv2d (Conv2D)              (None, 70, 70, 64)        4864      \n",
            "_________________________________________________________________\n",
            "batch_normalization (BatchNo (None, 70, 70, 64)        256       \n",
            "_________________________________________________________________\n",
            "leaky_re_lu (LeakyReLU)      (None, 70, 70, 64)        0         \n",
            "_________________________________________________________________\n",
            "conv2d_1 (Conv2D)            (None, 70, 70, 64)        102464    \n",
            "_________________________________________________________________\n",
            "batch_normalization_1 (Batch (None, 70, 70, 64)        256       \n",
            "_________________________________________________________________\n",
            "leaky_re_lu_1 (LeakyReLU)    (None, 70, 70, 64)        0         \n",
            "_________________________________________________________________\n",
            "max_pooling2d (MaxPooling2D) (None, 34, 34, 64)        0         \n",
            "_________________________________________________________________\n",
            "conv2d_2 (Conv2D)            (None, 34, 34, 128)       204928    \n",
            "_________________________________________________________________\n",
            "batch_normalization_2 (Batch (None, 34, 34, 128)       512       \n",
            "_________________________________________________________________\n",
            "leaky_re_lu_2 (LeakyReLU)    (None, 34, 34, 128)       0         \n",
            "_________________________________________________________________\n",
            "conv2d_3 (Conv2D)            (None, 34, 34, 128)       409728    \n",
            "_________________________________________________________________\n",
            "batch_normalization_3 (Batch (None, 34, 34, 128)       512       \n",
            "_________________________________________________________________\n",
            "leaky_re_lu_3 (LeakyReLU)    (None, 34, 34, 128)       0         \n",
            "_________________________________________________________________\n",
            "max_pooling2d_1 (MaxPooling2 (None, 16, 16, 128)       0         \n",
            "_________________________________________________________________\n",
            "conv2d_4 (Conv2D)            (None, 16, 16, 256)       819456    \n",
            "_________________________________________________________________\n",
            "batch_normalization_4 (Batch (None, 16, 16, 256)       1024      \n",
            "_________________________________________________________________\n",
            "leaky_re_lu_4 (LeakyReLU)    (None, 16, 16, 256)       0         \n",
            "_________________________________________________________________\n",
            "conv2d_5 (Conv2D)            (None, 16, 16, 256)       1638656   \n",
            "_________________________________________________________________\n",
            "batch_normalization_5 (Batch (None, 16, 16, 256)       1024      \n",
            "_________________________________________________________________\n",
            "leaky_re_lu_5 (LeakyReLU)    (None, 16, 16, 256)       0         \n",
            "_________________________________________________________________\n",
            "conv2d_6 (Conv2D)            (None, 16, 16, 256)       1638656   \n",
            "_________________________________________________________________\n",
            "batch_normalization_6 (Batch (None, 16, 16, 256)       1024      \n",
            "_________________________________________________________________\n",
            "leaky_re_lu_6 (LeakyReLU)    (None, 16, 16, 256)       0         \n",
            "_________________________________________________________________\n",
            "max_pooling2d_2 (MaxPooling2 (None, 7, 7, 256)         0         \n",
            "_________________________________________________________________\n",
            "conv2d_7 (Conv2D)            (None, 7, 7, 256)         1638656   \n",
            "_________________________________________________________________\n",
            "batch_normalization_7 (Batch (None, 7, 7, 256)         1024      \n",
            "_________________________________________________________________\n",
            "leaky_re_lu_7 (LeakyReLU)    (None, 7, 7, 256)         0         \n",
            "_________________________________________________________________\n",
            "max_pooling2d_3 (MaxPooling2 (None, 3, 3, 256)         0         \n",
            "_________________________________________________________________\n",
            "flatten (Flatten)            (None, 2304)              0         \n",
            "_________________________________________________________________\n",
            "dropout (Dropout)            (None, 2304)              0         \n",
            "_________________________________________________________________\n",
            "dense (Dense)                (None, 128)               295040    \n",
            "_________________________________________________________________\n",
            "batch_normalization_8 (Batch (None, 128)               512       \n",
            "_________________________________________________________________\n",
            "activation (Activation)      (None, 128)               0         \n",
            "_________________________________________________________________\n",
            "dropout_1 (Dropout)          (None, 128)               0         \n",
            "_________________________________________________________________\n",
            "dense_1 (Dense)              (None, 12)                1548      \n",
            "_________________________________________________________________\n",
            "batch_normalization_9 (Batch (None, 12)                48        \n",
            "_________________________________________________________________\n",
            "activation_1 (Activation)    (None, 12)                0         \n",
            "=================================================================\n",
            "Total params: 6,760,188\n",
            "Trainable params: 6,757,092\n",
            "Non-trainable params: 3,096\n",
            "_________________________________________________________________\n"
          ],
          "name": "stdout"
        }
      ]
    },
    {
      "cell_type": "code",
      "metadata": {
        "id": "8dflFlD93uBs",
        "colab_type": "code",
        "colab": {}
      },
      "source": [
        "# learning rate reduction\n",
        "learning_rate_reduction = ReduceLROnPlateau(monitor='val_acc', \n",
        "                                            patience=3, \n",
        "                                            verbose=1, \n",
        "                                            factor=0.4, \n",
        "                                            min_lr=0.00001)\n",
        "\n",
        "# checkpoints\n",
        "filepath=\"weight-cnn-filter.best_{epoch:02d}-{val_acc:.2f}.hdf5\"\n",
        "checkpoint = ModelCheckpoint(filepath, monitor='val_acc', \n",
        "                             verbose=1, save_best_only=True, mode='max')\n",
        "filepath=\"weights-cnn-filter.last_auto4.hdf5\"\n",
        "checkpoint_all = ModelCheckpoint(filepath, monitor='val_acc', \n",
        "                                 verbose=1, save_best_only=False, mode='max')\n",
        "\n",
        "BATCH_SIZE = 16"
      ],
      "execution_count": 0,
      "outputs": []
    },
    {
      "cell_type": "code",
      "metadata": {
        "id": "_0W85dAhcGkA",
        "colab_type": "code",
        "outputId": "96a6fa32-f83e-43cc-f877-4874d6bc32d3",
        "colab": {
          "base_uri": "https://localhost:8080/",
          "height": 1000
        }
      },
      "source": [
        "# fit model\n",
        "hist = model.fit_generator(datagen.flow(X_train, y_train, batch_size=BATCH_SIZE),\n",
        "                           epochs=20,\n",
        "                           validation_data=(X_valid, y_valid), \n",
        "                           steps_per_epoch=(10*X_train.shape[0]) / BATCH_SIZE,\n",
        "                           callbacks=[checkpoint, learning_rate_reduction, checkpoint_all])\n"
      ],
      "execution_count": 13,
      "outputs": [
        {
          "output_type": "stream",
          "text": [
            "Epoch 1/20\n",
            "2373/2375 [============================>.] - ETA: 0s - loss: 1.3085 - acc: 0.5760Epoch 1/20\n",
            " 950/2375 [===========>..................] - ETA: 1s - loss: 1.3512 - acc: 0.5642\n",
            "Epoch 00001: val_acc improved from -inf to 0.56421, saving model to weight-cnn-filter.best_01-0.56.hdf5\n",
            "\n",
            "Epoch 00001: saving model to weights-cnn-filter.last_auto4.hdf5\n",
            "2375/2375 [==============================] - 94s 40ms/step - loss: 1.3082 - acc: 0.5760 - val_loss: 1.3531 - val_acc: 0.5642\n",
            "Epoch 2/20\n",
            "2374/2375 [============================>.] - ETA: 0s - loss: 0.7852 - acc: 0.7547Epoch 1/20\n",
            " 912/2375 [==========>...................] - ETA: 1s - loss: 0.4492 - acc: 0.8553\n",
            "Epoch 00002: val_acc improved from 0.56421 to 0.85053, saving model to weight-cnn-filter.best_02-0.85.hdf5\n",
            "\n",
            "Epoch 00002: saving model to weights-cnn-filter.last_auto4.hdf5\n",
            "2375/2375 [==============================] - 85s 36ms/step - loss: 0.7853 - acc: 0.7547 - val_loss: 0.4716 - val_acc: 0.8505\n",
            "Epoch 3/20\n",
            "2373/2375 [============================>.] - ETA: 0s - loss: 0.5922 - acc: 0.8140Epoch 1/20\n",
            " 896/2375 [==========>...................] - ETA: 1s - loss: 0.2697 - acc: 0.9107\n",
            "Epoch 00003: val_acc improved from 0.85053 to 0.90842, saving model to weight-cnn-filter.best_03-0.91.hdf5\n",
            "\n",
            "Epoch 00003: saving model to weights-cnn-filter.last_auto4.hdf5\n",
            "2375/2375 [==============================] - 85s 36ms/step - loss: 0.5920 - acc: 0.8141 - val_loss: 0.2710 - val_acc: 0.9084\n",
            "Epoch 4/20\n",
            "2374/2375 [============================>.] - ETA: 0s - loss: 0.4675 - acc: 0.8539Epoch 1/20\n",
            " 912/2375 [==========>...................] - ETA: 1s - loss: 0.3090 - acc: 0.8936\n",
            "Epoch 00004: val_acc did not improve from 0.90842\n",
            "\n",
            "Epoch 00004: saving model to weights-cnn-filter.last_auto4.hdf5\n",
            "2375/2375 [==============================] - 85s 36ms/step - loss: 0.4675 - acc: 0.8539 - val_loss: 0.3123 - val_acc: 0.8916\n",
            "Epoch 5/20\n",
            "2373/2375 [============================>.] - ETA: 0s - loss: 0.3916 - acc: 0.8779Epoch 1/20\n",
            " 912/2375 [==========>...................] - ETA: 1s - loss: 0.3819 - acc: 0.8750\n",
            "Epoch 00005: val_acc did not improve from 0.90842\n",
            "\n",
            "Epoch 00005: saving model to weights-cnn-filter.last_auto4.hdf5\n",
            "2375/2375 [==============================] - 85s 36ms/step - loss: 0.3915 - acc: 0.8779 - val_loss: 0.3952 - val_acc: 0.8726\n",
            "Epoch 6/20\n",
            "2374/2375 [============================>.] - ETA: 0s - loss: 0.3434 - acc: 0.8910Epoch 1/20\n",
            " 944/2375 [==========>...................] - ETA: 1s - loss: 0.3245 - acc: 0.8962\n",
            "Epoch 00006: val_acc did not improve from 0.90842\n",
            "\n",
            "Epoch 00006: ReduceLROnPlateau reducing learning rate to 0.0004000000189989805.\n",
            "\n",
            "Epoch 00006: saving model to weights-cnn-filter.last_auto4.hdf5\n",
            "2375/2375 [==============================] - 85s 36ms/step - loss: 0.3433 - acc: 0.8910 - val_loss: 0.3220 - val_acc: 0.8968\n",
            "Epoch 7/20\n",
            "2373/2375 [============================>.] - ETA: 0s - loss: 0.2496 - acc: 0.9207Epoch 1/20\n",
            " 944/2375 [==========>...................] - ETA: 1s - loss: 0.1783 - acc: 0.9407\n",
            "Epoch 00007: val_acc improved from 0.90842 to 0.94105, saving model to weight-cnn-filter.best_07-0.94.hdf5\n",
            "\n",
            "Epoch 00007: saving model to weights-cnn-filter.last_auto4.hdf5\n",
            "2375/2375 [==============================] - 85s 36ms/step - loss: 0.2496 - acc: 0.9207 - val_loss: 0.1765 - val_acc: 0.9411\n",
            "Epoch 8/20\n",
            "2374/2375 [============================>.] - ETA: 0s - loss: 0.2238 - acc: 0.9294Epoch 1/20\n",
            " 912/2375 [==========>...................] - ETA: 1s - loss: 0.1509 - acc: 0.9474\n",
            "Epoch 00008: val_acc improved from 0.94105 to 0.94737, saving model to weight-cnn-filter.best_08-0.95.hdf5\n",
            "\n",
            "Epoch 00008: saving model to weights-cnn-filter.last_auto4.hdf5\n",
            "2375/2375 [==============================] - 85s 36ms/step - loss: 0.2238 - acc: 0.9294 - val_loss: 0.1515 - val_acc: 0.9474\n",
            "Epoch 9/20\n",
            "2373/2375 [============================>.] - ETA: 0s - loss: 0.2095 - acc: 0.9339Epoch 1/20\n",
            " 912/2375 [==========>...................] - ETA: 1s - loss: 0.1712 - acc: 0.9452\n",
            "Epoch 00009: val_acc did not improve from 0.94737\n",
            "\n",
            "Epoch 00009: saving model to weights-cnn-filter.last_auto4.hdf5\n",
            "2375/2375 [==============================] - 85s 36ms/step - loss: 0.2094 - acc: 0.9340 - val_loss: 0.1689 - val_acc: 0.9463\n",
            "Epoch 10/20\n",
            "2374/2375 [============================>.] - ETA: 0s - loss: 0.1909 - acc: 0.9389Epoch 1/20\n",
            " 928/2375 [==========>...................] - ETA: 1s - loss: 0.1500 - acc: 0.9494\n",
            "Epoch 00010: val_acc improved from 0.94737 to 0.94842, saving model to weight-cnn-filter.best_10-0.95.hdf5\n",
            "\n",
            "Epoch 00010: saving model to weights-cnn-filter.last_auto4.hdf5\n",
            "2375/2375 [==============================] - 85s 36ms/step - loss: 0.1909 - acc: 0.9389 - val_loss: 0.1559 - val_acc: 0.9484\n",
            "Epoch 11/20\n",
            "2373/2375 [============================>.] - ETA: 0s - loss: 0.1815 - acc: 0.9421Epoch 1/20\n",
            " 912/2375 [==========>...................] - ETA: 1s - loss: 0.1280 - acc: 0.9605\n",
            "Epoch 00011: val_acc improved from 0.94842 to 0.95895, saving model to weight-cnn-filter.best_11-0.96.hdf5\n",
            "\n",
            "Epoch 00011: saving model to weights-cnn-filter.last_auto4.hdf5\n",
            "2375/2375 [==============================] - 85s 36ms/step - loss: 0.1815 - acc: 0.9422 - val_loss: 0.1344 - val_acc: 0.9589\n",
            "Epoch 12/20\n",
            "2374/2375 [============================>.] - ETA: 0s - loss: 0.1736 - acc: 0.9439Epoch 1/20\n",
            " 896/2375 [==========>...................] - ETA: 1s - loss: 0.1465 - acc: 0.9487\n",
            "Epoch 00012: val_acc did not improve from 0.95895\n",
            "\n",
            "Epoch 00012: saving model to weights-cnn-filter.last_auto4.hdf5\n",
            "2375/2375 [==============================] - 85s 36ms/step - loss: 0.1736 - acc: 0.9439 - val_loss: 0.1487 - val_acc: 0.9484\n",
            "Epoch 13/20\n",
            "2374/2375 [============================>.] - ETA: 0s - loss: 0.1646 - acc: 0.9479Epoch 1/20\n",
            " 896/2375 [==========>...................] - ETA: 1s - loss: 0.1442 - acc: 0.9487\n",
            "Epoch 00013: val_acc did not improve from 0.95895\n",
            "\n",
            "Epoch 00013: saving model to weights-cnn-filter.last_auto4.hdf5\n",
            "2375/2375 [==============================] - 85s 36ms/step - loss: 0.1646 - acc: 0.9479 - val_loss: 0.1445 - val_acc: 0.9495\n",
            "Epoch 14/20\n",
            "2374/2375 [============================>.] - ETA: 0s - loss: 0.1545 - acc: 0.9515Epoch 1/20\n",
            " 944/2375 [==========>...................] - ETA: 1s - loss: 0.2576 - acc: 0.9216\n",
            "Epoch 00014: val_acc did not improve from 0.95895\n",
            "\n",
            "Epoch 00014: ReduceLROnPlateau reducing learning rate to 0.00016000000759959222.\n",
            "\n",
            "Epoch 00014: saving model to weights-cnn-filter.last_auto4.hdf5\n",
            "2375/2375 [==============================] - 84s 36ms/step - loss: 0.1545 - acc: 0.9516 - val_loss: 0.2535 - val_acc: 0.9221\n",
            "Epoch 15/20\n",
            "2373/2375 [============================>.] - ETA: 0s - loss: 0.1250 - acc: 0.9606Epoch 1/20\n",
            " 950/2375 [===========>..................] - ETA: 1s - loss: 0.1025 - acc: 0.9684\n",
            "Epoch 00015: val_acc improved from 0.95895 to 0.96842, saving model to weight-cnn-filter.best_15-0.97.hdf5\n",
            "\n",
            "Epoch 00015: saving model to weights-cnn-filter.last_auto4.hdf5\n",
            "2375/2375 [==============================] - 85s 36ms/step - loss: 0.1250 - acc: 0.9606 - val_loss: 0.1015 - val_acc: 0.9684\n",
            "Epoch 16/20\n",
            "2374/2375 [============================>.] - ETA: 0s - loss: 0.1152 - acc: 0.9631Epoch 1/20\n",
            " 912/2375 [==========>...................] - ETA: 1s - loss: 0.1012 - acc: 0.9693\n",
            "Epoch 00016: val_acc improved from 0.96842 to 0.96947, saving model to weight-cnn-filter.best_16-0.97.hdf5\n",
            "\n",
            "Epoch 00016: saving model to weights-cnn-filter.last_auto4.hdf5\n",
            "2375/2375 [==============================] - 85s 36ms/step - loss: 0.1152 - acc: 0.9631 - val_loss: 0.1057 - val_acc: 0.9695\n",
            "Epoch 17/20\n",
            "2373/2375 [============================>.] - ETA: 0s - loss: 0.1091 - acc: 0.9659Epoch 1/20\n",
            " 928/2375 [==========>...................] - ETA: 1s - loss: 0.1098 - acc: 0.9644\n",
            "Epoch 00017: val_acc did not improve from 0.96947\n",
            "\n",
            "Epoch 00017: saving model to weights-cnn-filter.last_auto4.hdf5\n",
            "2375/2375 [==============================] - 84s 36ms/step - loss: 0.1091 - acc: 0.9659 - val_loss: 0.1155 - val_acc: 0.9642\n",
            "Epoch 18/20\n",
            "2374/2375 [============================>.] - ETA: 0s - loss: 0.1074 - acc: 0.9669Epoch 1/20\n",
            " 896/2375 [==========>...................] - ETA: 1s - loss: 0.0994 - acc: 0.9721\n",
            "Epoch 00018: val_acc improved from 0.96947 to 0.97053, saving model to weight-cnn-filter.best_18-0.97.hdf5\n",
            "\n",
            "Epoch 00018: saving model to weights-cnn-filter.last_auto4.hdf5\n",
            "2375/2375 [==============================] - 85s 36ms/step - loss: 0.1074 - acc: 0.9669 - val_loss: 0.1047 - val_acc: 0.9705\n",
            "Epoch 19/20\n",
            "2373/2375 [============================>.] - ETA: 0s - loss: 0.1057 - acc: 0.9666Epoch 1/20\n",
            " 944/2375 [==========>...................] - ETA: 1s - loss: 0.0905 - acc: 0.9746\n",
            "Epoch 00019: val_acc improved from 0.97053 to 0.97474, saving model to weight-cnn-filter.best_19-0.97.hdf5\n",
            "\n",
            "Epoch 00019: saving model to weights-cnn-filter.last_auto4.hdf5\n",
            "2375/2375 [==============================] - 85s 36ms/step - loss: 0.1057 - acc: 0.9666 - val_loss: 0.0898 - val_acc: 0.9747\n",
            "Epoch 20/20\n",
            "2374/2375 [============================>.] - ETA: 0s - loss: 0.0976 - acc: 0.9702Epoch 1/20\n",
            " 912/2375 [==========>...................] - ETA: 1s - loss: 0.1135 - acc: 0.9682\n",
            "Epoch 00020: val_acc did not improve from 0.97474\n",
            "\n",
            "Epoch 00020: saving model to weights-cnn-filter.last_auto4.hdf5\n",
            "2375/2375 [==============================] - 85s 36ms/step - loss: 0.0976 - acc: 0.9701 - val_loss: 0.1173 - val_acc: 0.9674\n"
          ],
          "name": "stdout"
        }
      ]
    },
    {
      "cell_type": "code",
      "metadata": {
        "id": "W-UUTZ0DbvzL",
        "colab_type": "code",
        "outputId": "6281b6eb-01f1-42cd-806b-a8d28282f999",
        "colab": {
          "base_uri": "https://localhost:8080/",
          "height": 281
        }
      },
      "source": [
        "plt.plot(hist.history['acc'])\n",
        "plt.plot(hist.history['val_acc'])\n",
        "plt.title('Training for ' +str(20)+ ' epochs')\n",
        "plt.legend(['Training accuracy', 'Validation accuracy'], loc='lower right')\n",
        "plt.savefig('history_accuracy.png', dpi=200)\n",
        "plt.show()"
      ],
      "execution_count": 27,
      "outputs": [
        {
          "output_type": "display_data",
          "data": {
            "image/png": "[encoded data removed]",
            "text/plain": [
              "<Figure size 432x288 with 1 Axes>"
            ]
          },
          "metadata": {
            "tags": []
          }
        }
      ]
    },
    {
      "cell_type": "code",
      "metadata": {
        "id": "cwi2qemtbxLq",
        "colab_type": "code",
        "colab": {}
      },
      "source": [
        "import pickle\n",
        "with open('CNN_filter_history.pkl', 'wb') as file_pi:\n",
        "    pickle.dump(hist.history, file_pi)\n",
        "    \n",
        "model_json = model.to_json()\n",
        "with open(\"CNN_filter_model.json\", \"w\") as json_file:\n",
        "    json_file.write(model_json)"
      ],
      "execution_count": 0,
      "outputs": []
    },
    {
      "cell_type": "code",
      "metadata": {
        "id": "-SSKdU-8cGey",
        "colab_type": "code",
        "outputId": "51a1d3e3-f20c-486c-f03d-577a46a63db2",
        "colab": {
          "base_uri": "https://localhost:8080/",
          "height": 88
        }
      },
      "source": [
        "model.load_weights(\"weight-cnn-filter.best_19-0.97.hdf5\")\n",
        "\n",
        "print(\"Train accuracy\", model.evaluate(X_train, y_train))  # Evaluate on train set\n",
        "print(\"Validation accuracy\", model.evaluate(X_valid, y_valid))  # Evaluate on test set"
      ],
      "execution_count": 17,
      "outputs": [
        {
          "output_type": "stream",
          "text": [
            "3800/3800 [==============================] - 2s 579us/sample - loss: 0.0366 - acc: 0.9879\n",
            "Train accuracy [0.03660403724955885, 0.9878947]\n",
            "950/950 [==============================] - 1s 633us/sample - loss: 0.0902 - acc: 0.9747\n",
            "Validation accuracy [0.09022111205678238, 0.97473687]\n"
          ],
          "name": "stdout"
        }
      ]
    },
    {
      "cell_type": "markdown",
      "metadata": {
        "id": "Zo5Sh47Vt1Oe",
        "colab_type": "text"
      },
      "source": [
        "# Confusion Matrix"
      ]
    },
    {
      "cell_type": "code",
      "metadata": {
        "id": "UlUt_qN7t3pj",
        "colab_type": "code",
        "outputId": "fe73d820-0b99-40cb-9fa1-2ffe31e39fd5",
        "colab": {
          "base_uri": "https://localhost:8080/",
          "height": 711
        }
      },
      "source": [
        "def plot_confusion_matrix(cm, classes, normalize=False, title='Confusion matrix',cmap=plt.cm.Blues):\n",
        "    fig = plt.figure(figsize=(10,10))\n",
        "    plt.imshow(cm, interpolation='nearest', cmap=cmap)\n",
        "    plt.title(title)\n",
        "    plt.colorbar()\n",
        "    tick_marks = np.arange(len(classes))\n",
        "    plt.xticks(tick_marks, classes, rotation=90)\n",
        "    plt.yticks(tick_marks, classes)\n",
        "\n",
        "    if normalize:\n",
        "        cm = cm.astype('float') / cm.sum(axis=1)[:, np.newaxis]\n",
        "\n",
        "    thresh = cm.max() / 2.\n",
        "    for i, j in itertools.product(range(cm.shape[0]), range(cm.shape[1])):\n",
        "        plt.text(j, i, cm[i, j],\n",
        "                 horizontalalignment=\"center\",\n",
        "                 color=\"white\" if cm[i, j] > thresh else \"black\")\n",
        "\n",
        "    plt.tight_layout()\n",
        "    plt.ylabel('True label')\n",
        "    plt.xlabel('Predicted label')\n",
        "    plt.savefig('confusion_matrix.png', dpi=200)\n",
        "\n",
        "# Predict the values from the validation dataset\n",
        "y_pred = model.predict(X_valid)\n",
        "y_pred_classes = np.argmax(y_pred, axis = 1) \n",
        "y_true = np.argmax(y_valid, axis = 1) \n",
        "\n",
        "# confusion matrix\n",
        "confusionMTX = confusion_matrix(y_true, y_pred_classes) \n",
        "\n",
        "# plot the confusion matrix\n",
        "plot_confusion_matrix(confusionMTX, classes = le.classes_) \n"
      ],
      "execution_count": 26,
      "outputs": [
        {
          "output_type": "display_data",
          "data": {
            "image/png": "[encoded data removed]",
            "text/plain": [
              "<Figure size 720x720 with 2 Axes>"
            ]
          },
          "metadata": {
            "tags": []
          }
        }
      ]
    },
    {
      "cell_type": "markdown",
      "metadata": {
        "id": "zUVMMx30uz07",
        "colab_type": "text"
      },
      "source": [
        "# Predicting on Test Set"
      ]
    },
    {
      "cell_type": "code",
      "metadata": {
        "id": "f4UxIw5GuzC8",
        "colab_type": "code",
        "outputId": "af35006f-4b6f-4234-fdde-e684ff479a2e",
        "colab": {
          "base_uri": "https://localhost:8080/",
          "height": 35
        }
      },
      "source": [
        "path =  TEST_DIRECTORY + '/*.png'\n",
        "files = glob(path)\n",
        "\n",
        "testImg = []\n",
        "testId = []\n",
        "num = len(files)\n",
        "\n",
        "# Obtain images and resizing, obtain labels\n",
        "for imag in files:\n",
        "    testId.append(imag.split('/')[-1])  # Images id's\n",
        "    \n",
        "    img = cv2.imread(imag)\n",
        "\n",
        "    blurr = cv2.GaussianBlur(img,(5,5),0)\n",
        "    hsv = cv2.cvtColor(blurr,cv2.COLOR_BGR2HSV)\n",
        "    mask = cv2.inRange(hsv,lwr_hsv,upr_hsv)\n",
        "    struc = cv2.getStructuringElement(cv2.MORPH_ELLIPSE,(11,11))\n",
        "    mask = cv2.morphologyEx(mask,cv2.MORPH_CLOSE,struc)\n",
        "    boolean = mask>0\n",
        "    new_img = np.zeros_like(img,np.uint8)\n",
        "    new_img[boolean] = img[boolean]\n",
        "    res_img = new_img\n",
        "\n",
        "\n",
        "    rez_img = cv2.resize(res_img, dsize =(IMG_WIDTH, IMG_HEIGHT),interpolation = cv2.INTER_AREA)\n",
        "    rez_img = rez_img.reshape(IMG_WIDTH, IMG_HEIGHT, 3)\n",
        "    testImg.append(rez_img)\n",
        "    \n",
        "    \n",
        "    \n",
        "    \n",
        "\n",
        "testImg = np.asarray(testImg)  # Train images set\n",
        "\n",
        "print(testImg.shape)"
      ],
      "execution_count": 19,
      "outputs": [
        {
          "output_type": "stream",
          "text": [
            "(794, 70, 70, 3)\n"
          ],
          "name": "stdout"
        }
      ]
    },
    {
      "cell_type": "code",
      "metadata": {
        "id": "fRSsTrquvZBD",
        "colab_type": "code",
        "colab": {}
      },
      "source": [
        "testImg = testImg / 255\n"
      ],
      "execution_count": 0,
      "outputs": []
    },
    {
      "cell_type": "code",
      "metadata": {
        "id": "rcLkQ-19vv8I",
        "colab_type": "code",
        "colab": {}
      },
      "source": [
        "pred = model.predict(testImg)"
      ],
      "execution_count": 0,
      "outputs": []
    },
    {
      "cell_type": "code",
      "metadata": {
        "id": "RXYNXG4JvwcP",
        "colab_type": "code",
        "colab": {}
      },
      "source": [
        "# Write result to file\n",
        "predNum = np.argmax(pred, axis=1)\n",
        "predStr = le.classes_[predNum]\n",
        "\n",
        "res = {'file': testId, 'species': predStr}\n",
        "res = pd.DataFrame(res)\n",
        "res.to_csv(\"res.csv\", index=False)"
      ],
      "execution_count": 0,
      "outputs": []
    },
    {
      "cell_type": "markdown",
      "metadata": {
        "id": "n8bd9YT9qeYq",
        "colab_type": "text"
      },
      "source": [
        "# Test Score: 0.95843"
      ]
    }
  ]
}