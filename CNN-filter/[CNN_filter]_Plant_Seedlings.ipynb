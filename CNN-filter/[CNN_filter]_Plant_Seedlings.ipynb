{
 "cells": [
  {
   "cell_type": "code",
   "execution_count": 0,
   "metadata": {
    "colab": {},
    "colab_type": "code",
    "id": "tviqi2yaN5dU"
   },
   "outputs": [],
   "source": [
    "!pip3 uninstall -y kaggle\n",
    "!pip3 install --upgrade pip\n",
    "!pip3 install kaggle==1.5.6\n",
    "!kaggle -v\n",
    "\n",
    "!mkdir /root/.kaggle\n",
    "## Upload the kaggle.json file.\n",
    "!cp kaggle.json /root/.kaggle/kaggle.json\n",
    "!chmod 600 /root/.kaggle/kaggle.json"
   ]
  },
  {
   "cell_type": "code",
   "execution_count": 0,
   "metadata": {
    "colab": {},
    "colab_type": "code",
    "id": "1A3YzlP1S3Ke"
   },
   "outputs": [],
   "source": [
    "!kaggle competitions download -c plant-seedlings-classification\n",
    "!unzip plant-seedlings-classification.zip\n",
    "!rm plant-seedlings-classification.zip sample_submission.csv"
   ]
  },
  {
   "cell_type": "code",
   "execution_count": 0,
   "metadata": {
    "colab": {},
    "colab_type": "code",
    "id": "TIvQSIH6T4Ta"
   },
   "outputs": [],
   "source": [
    "%matplotlib inline\n",
    "import matplotlib.pyplot as plt\n",
    "\n",
    "import numpy as np\n",
    "import pandas as pd\n",
    "\n",
    "import os\n",
    "import cv2\n",
    "import math\n",
    "import itertools\n",
    "\n",
    "\n",
    "from glob import glob\n",
    "from sklearn import preprocessing\n",
    "from sklearn.model_selection import train_test_split\n",
    "from sklearn.metrics import confusion_matrix\n",
    "\n",
    "\n",
    "%tensorflow_version 1.x\n",
    "from tensorflow.keras.utils import to_categorical\n",
    "from tensorflow.keras.models import Sequential, model_from_json\n",
    "from tensorflow.keras.layers import Conv2D, MaxPooling2D, GlobalAveragePooling2D, Dense, Dropout, Activation, Flatten, BatchNormalization, LeakyReLU\n",
    "from tensorflow.keras.optimizers import RMSprop, Adadelta, SGD, Adam\n",
    "from tensorflow.keras.regularizers import l2\n",
    "from tensorflow.keras.preprocessing.image import ImageDataGenerator\n",
    "from tensorflow.keras.callbacks import LearningRateScheduler, EarlyStopping, ReduceLROnPlateau, ModelCheckpoint\n",
    "from tensorflow.keras.optimizers.schedules import ExponentialDecay"
   ]
  },
  {
   "cell_type": "markdown",
   "metadata": {
    "colab_type": "text",
    "id": "bq8FkGGcb9vh"
   },
   "source": [
    "# Constants"
   ]
  },
  {
   "cell_type": "code",
   "execution_count": 0,
   "metadata": {
    "colab": {},
    "colab_type": "code",
    "id": "-ti20kvWZ48j"
   },
   "outputs": [],
   "source": [
    "TRAIN_DIRECTORY = \"train\"\n",
    "TEST_DIRECTORY = \"test\"\n",
    "IMG_HEIGHT = 70\n",
    "IMG_WIDTH = 70\n",
    "CATEGORIES = os.listdir(TRAIN_DIRECTORY)\n",
    "num_classes = len(CATEGORIES)\n",
    "\n",
    "lwr_hsv = (25,40,50)\n",
    "upr_hsv = (75,255,255)\n",
    "\n"
   ]
  },
  {
   "cell_type": "markdown",
   "metadata": {
    "colab_type": "text",
    "id": "6AcDYHwEb_zw"
   },
   "source": [
    "# Data Loading"
   ]
  },
  {
   "cell_type": "code",
   "execution_count": 8,
   "metadata": {
    "colab": {
     "base_uri": "https://localhost:8080/",
     "height": 51
    },
    "colab_type": "code",
    "id": "uz_o7Io2wq80",
    "outputId": "d64f5dd6-a557-483a-b8b3-442ad30450dd"
   },
   "outputs": [
    {
     "name": "stdout",
     "output_type": "stream",
     "text": [
      "(4750, 70, 70, 3)\n",
      "(4750, 1)\n"
     ]
    }
   ],
   "source": [
    "path_to_all_files = TRAIN_DIRECTORY + '/*/*.png' \n",
    "files = glob(path_to_all_files)\n",
    "\n",
    "trainImg = []\n",
    "trainLabel = []\n",
    "num = len(files)\n",
    "\n",
    "# Obtain images and resizing, obtain labels\n",
    "for imag in files:\n",
    "    \n",
    "    img = cv2.imread(imag)\n",
    "\n",
    "    blurr = cv2.GaussianBlur(img,(5,5),0)\n",
    "    hsv = cv2.cvtColor(blurr,cv2.COLOR_BGR2HSV)\n",
    "    mask = cv2.inRange(hsv,lwr_hsv,upr_hsv)\n",
    "    struc = cv2.getStructuringElement(cv2.MORPH_ELLIPSE,(11,11))\n",
    "    mask = cv2.morphologyEx(mask,cv2.MORPH_CLOSE,struc)\n",
    "    boolean = mask>0\n",
    "    new_img = np.zeros_like(img,np.uint8)\n",
    "    new_img[boolean] = img[boolean]\n",
    "    res_img = new_img\n",
    "\n",
    "\n",
    "    rez_img = cv2.resize(res_img, dsize =(IMG_WIDTH, IMG_HEIGHT),interpolation = cv2.INTER_AREA)\n",
    "    rez_img = rez_img.reshape(IMG_WIDTH, IMG_HEIGHT, 3)\n",
    "    trainImg.append(rez_img)\n",
    "    \n",
    "    trainLabel.append(imag.split('/')[-2])  # Get image label (folder name)\n",
    "\n",
    "trainImg = np.asarray(trainImg)  # Train images set\n",
    "trainLabel = pd.DataFrame(trainLabel)  # Train labels set\n",
    "\n",
    "print(trainImg.shape)\n",
    "print(trainLabel.shape)"
   ]
  },
  {
   "cell_type": "code",
   "execution_count": 6,
   "metadata": {
    "colab": {
     "base_uri": "https://localhost:8080/",
     "height": 243
    },
    "colab_type": "code",
    "id": "JK-WE8HmwrWw",
    "outputId": "7dee7c35-1b9f-4907-a65c-e92439904b0b"
   },
   "outputs": [
    {
     "data": {
      "image/png": "[encoded data removed]",
      "text/plain": [
       "<Figure size 432x288 with 8 Axes>"
      ]
     },
     "metadata": {
      "tags": []
     },
     "output_type": "display_data"
    }
   ],
   "source": [
    "for i in range(8):\n",
    "    plt.subplot(2, 4, i + 1)\n",
    "    plt.imshow(trainImg[i*20])"
   ]
  },
  {
   "cell_type": "markdown",
   "metadata": {
    "colab_type": "text",
    "id": "I_XBb2GEy-YL"
   },
   "source": [
    "# Cleaning data"
   ]
  },
  {
   "cell_type": "markdown",
   "metadata": {
    "colab_type": "text",
    "id": "VKlGbXSgzXdF"
   },
   "source": [
    "## Normalize Input & Categorize Labels"
   ]
  },
  {
   "cell_type": "code",
   "execution_count": 0,
   "metadata": {
    "colab": {},
    "colab_type": "code",
    "id": "wGfk80uUzcpC"
   },
   "outputs": [],
   "source": [
    "trainImg = trainImg / 255"
   ]
  },
  {
   "cell_type": "code",
   "execution_count": 11,
   "metadata": {
    "colab": {
     "base_uri": "https://localhost:8080/",
     "height": 416
    },
    "colab_type": "code",
    "id": "zK83iYHfzcnP",
    "outputId": "4d1ebee4-2a65-4ef6-9baf-0826f3dd85dc"
   },
   "outputs": [
    {
     "data": {
      "text/plain": [
       "<matplotlib.axes._subplots.AxesSubplot at 0x7f6057ed9cc0>"
      ]
     },
     "execution_count": 11,
     "metadata": {
      "tags": []
     },
     "output_type": "execute_result"
    },
    {
     "data": {
      "image/png": "[encoded data removed]",
      "text/plain": [
       "<Figure size 432x288 with 1 Axes>"
      ]
     },
     "metadata": {
      "tags": []
     },
     "output_type": "display_data"
    }
   ],
   "source": [
    "le = preprocessing.LabelEncoder()\n",
    "encodeTrainLabels = le.fit_transform(trainLabel[0])\n",
    "clearTrainLabel = to_categorical(encodeTrainLabels)\n",
    "\n",
    "# Plot of label types numbers\n",
    "trainLabel[0].value_counts().plot(kind='bar', title=\"# classes:\" + str(clearTrainLabel.shape[1]))\n"
   ]
  },
  {
   "cell_type": "markdown",
   "metadata": {
    "colab_type": "text",
    "id": "lfNky0yTcD_C"
   },
   "source": [
    "# Model Definition"
   ]
  },
  {
   "cell_type": "markdown",
   "metadata": {
    "colab_type": "text",
    "id": "-yfs8lqX2CQv"
   },
   "source": [
    "## Data splitting and Generator"
   ]
  },
  {
   "cell_type": "code",
   "execution_count": 0,
   "metadata": {
    "colab": {},
    "colab_type": "code",
    "id": "O0Z5tH3S2Bjg"
   },
   "outputs": [],
   "source": [
    "X_train, X_valid, y_train, y_valid = train_test_split(trainImg, clearTrainLabel, \n",
    "                                                test_size=0.2, random_state=33, \n",
    "                                                stratify = clearTrainLabel)"
   ]
  },
  {
   "cell_type": "code",
   "execution_count": 0,
   "metadata": {
    "colab": {},
    "colab_type": "code",
    "id": "4PbdbKNt2iiM"
   },
   "outputs": [],
   "source": [
    "datagen = ImageDataGenerator(\n",
    "        featurewise_center=False,  # set input mean to 0 over the dataset\n",
    "        samplewise_center=False,  # set each sample mean to 0\n",
    "        featurewise_std_normalization=False,  # divide inputs by std of the dataset\n",
    "        samplewise_std_normalization=False,  # divide each input by its std\n",
    "        zca_whitening=False,  # apply ZCA whitening\n",
    "        rotation_range=180,  # randomly rotate images in the range (degrees, 0 to 180)\n",
    "        zoom_range = 0.3, # Randomly zoom image\n",
    "        width_shift_range=0.2,  # randomly shift images horizontally (fraction of total width)\n",
    "        height_shift_range=0.2,  # randomly shift images vertically (fraction of total height)\n",
    "        horizontal_flip=True,  # randomly flip images\n",
    "        vertical_flip=True, # randomly flip images\n",
    "        )\n",
    "\n",
    "datagen.fit(X_train)"
   ]
  },
  {
   "cell_type": "markdown",
   "metadata": {
    "colab_type": "text",
    "id": "QTzKJVGh2K88"
   },
   "source": [
    "## Model Architecture"
   ]
  },
  {
   "cell_type": "code",
   "execution_count": 11,
   "metadata": {
    "colab": {
     "base_uri": "https://localhost:8080/",
     "height": 1000
    },
    "colab_type": "code",
    "id": "dMpN7QMtcGha",
    "outputId": "6423e8ab-008d-4466-faa8-2746518bb1a6"
   },
   "outputs": [
    {
     "name": "stdout",
     "output_type": "stream",
     "text": [
      "WARNING:tensorflow:From /usr/local/lib/python3.6/dist-packages/tensorflow_core/python/ops/resource_variable_ops.py:1630: calling BaseResourceVariable.__init__ (from tensorflow.python.ops.resource_variable_ops) with constraint is deprecated and will be removed in a future version.\n",
      "Instructions for updating:\n",
      "If using Keras pass *_constraint arguments to layers.\n",
      "Model: \"sequential\"\n",
      "_________________________________________________________________\n",
      "Layer (type)                 Output Shape              Param #   \n",
      "=================================================================\n",
      "conv2d (Conv2D)              (None, 70, 70, 64)        4864      \n",
      "_________________________________________________________________\n",
      "batch_normalization (BatchNo (None, 70, 70, 64)        256       \n",
      "_________________________________________________________________\n",
      "leaky_re_lu (LeakyReLU)      (None, 70, 70, 64)        0         \n",
      "_________________________________________________________________\n",
      "conv2d_1 (Conv2D)            (None, 70, 70, 64)        102464    \n",
      "_________________________________________________________________\n",
      "batch_normalization_1 (Batch (None, 70, 70, 64)        256       \n",
      "_________________________________________________________________\n",
      "leaky_re_lu_1 (LeakyReLU)    (None, 70, 70, 64)        0         \n",
      "_________________________________________________________________\n",
      "max_pooling2d (MaxPooling2D) (None, 34, 34, 64)        0         \n",
      "_________________________________________________________________\n",
      "conv2d_2 (Conv2D)            (None, 34, 34, 128)       204928    \n",
      "_________________________________________________________________\n",
      "batch_normalization_2 (Batch (None, 34, 34, 128)       512       \n",
      "_________________________________________________________________\n",
      "leaky_re_lu_2 (LeakyReLU)    (None, 34, 34, 128)       0         \n",
      "_________________________________________________________________\n",
      "conv2d_3 (Conv2D)            (None, 34, 34, 128)       409728    \n",
      "_________________________________________________________________\n",
      "batch_normalization_3 (Batch (None, 34, 34, 128)       512       \n",
      "_________________________________________________________________\n",
      "leaky_re_lu_3 (LeakyReLU)    (None, 34, 34, 128)       0         \n",
      "_________________________________________________________________\n",
      "max_pooling2d_1 (MaxPooling2 (None, 16, 16, 128)       0         \n",
      "_________________________________________________________________\n",
      "conv2d_4 (Conv2D)            (None, 16, 16, 256)       819456    \n",
      "_________________________________________________________________\n",
      "batch_normalization_4 (Batch (None, 16, 16, 256)       1024      \n",
      "_________________________________________________________________\n",
      "leaky_re_lu_4 (LeakyReLU)    (None, 16, 16, 256)       0         \n",
      "_________________________________________________________________\n",
      "conv2d_5 (Conv2D)            (None, 16, 16, 256)       1638656   \n",
      "_________________________________________________________________\n",
      "batch_normalization_5 (Batch (None, 16, 16, 256)       1024      \n",
      "_________________________________________________________________\n",
      "leaky_re_lu_5 (LeakyReLU)    (None, 16, 16, 256)       0         \n",
      "_________________________________________________________________\n",
      "conv2d_6 (Conv2D)            (None, 16, 16, 256)       1638656   \n",
      "_________________________________________________________________\n",
      "batch_normalization_6 (Batch (None, 16, 16, 256)       1024      \n",
      "_________________________________________________________________\n",
      "leaky_re_lu_6 (LeakyReLU)    (None, 16, 16, 256)       0         \n",
      "_________________________________________________________________\n",
      "max_pooling2d_2 (MaxPooling2 (None, 7, 7, 256)         0         \n",
      "_________________________________________________________________\n",
      "conv2d_7 (Conv2D)            (None, 7, 7, 256)         1638656   \n",
      "_________________________________________________________________\n",
      "batch_normalization_7 (Batch (None, 7, 7, 256)         1024      \n",
      "_________________________________________________________________\n",
      "leaky_re_lu_7 (LeakyReLU)    (None, 7, 7, 256)         0         \n",
      "_________________________________________________________________\n",
      "max_pooling2d_3 (MaxPooling2 (None, 3, 3, 256)         0         \n",
      "_________________________________________________________________\n",
      "flatten (Flatten)            (None, 2304)              0         \n",
      "_________________________________________________________________\n",
      "dropout (Dropout)            (None, 2304)              0         \n",
      "_________________________________________________________________\n",
      "dense (Dense)                (None, 128)               295040    \n",
      "_________________________________________________________________\n",
      "batch_normalization_8 (Batch (None, 128)               512       \n",
      "_________________________________________________________________\n",
      "activation (Activation)      (None, 128)               0         \n",
      "_________________________________________________________________\n",
      "dropout_1 (Dropout)          (None, 128)               0         \n",
      "_________________________________________________________________\n",
      "dense_1 (Dense)              (None, 12)                1548      \n",
      "_________________________________________________________________\n",
      "batch_normalization_9 (Batch (None, 12)                48        \n",
      "_________________________________________________________________\n",
      "activation_1 (Activation)    (None, 12)                0         \n",
      "=================================================================\n",
      "Total params: 6,760,188\n",
      "Trainable params: 6,757,092\n",
      "Non-trainable params: 3,096\n",
      "_________________________________________________________________\n"
     ]
    }
   ],
   "source": [
    "model = Sequential()\n",
    "\n",
    "model.add(Conv2D(filters=64, kernel_size=(5, 5), padding='same', input_shape=(IMG_WIDTH, IMG_WIDTH, 3)))\n",
    "model.add(BatchNormalization(axis=3))\n",
    "model.add(LeakyReLU(0.1))\n",
    "\n",
    "model.add(Conv2D(filters=64,kernel_size=(5, 5), padding='same'))\n",
    "model.add(BatchNormalization(axis=3))\n",
    "model.add(LeakyReLU(0.1))\n",
    "\n",
    "model.add(MaxPooling2D(pool_size=(3,3), strides=(2,2)))\n",
    "\n",
    "model.add(Conv2D(filters=128, kernel_size=(5, 5), padding='same'))\n",
    "model.add(BatchNormalization(axis=3))\n",
    "model.add(LeakyReLU(0.1))\n",
    "\n",
    "model.add(Conv2D(filters=128, kernel_size=(5, 5), padding='same'))\n",
    "model.add(BatchNormalization(axis=3))\n",
    "model.add(LeakyReLU(0.1))\n",
    "\n",
    "model.add(MaxPooling2D(pool_size=(3,3), strides=(2,2)))\n",
    "\n",
    "model.add(Conv2D(filters=256, kernel_size=(5, 5), padding='same'))\n",
    "model.add(BatchNormalization(axis=3))\n",
    "model.add(LeakyReLU(0.1))\n",
    "\n",
    "model.add(Conv2D(filters=256, kernel_size=(5, 5), padding='same'))\n",
    "model.add(BatchNormalization(axis=3))\n",
    "model.add(LeakyReLU(0.1))\n",
    "\n",
    "model.add(Conv2D(filters=256, kernel_size=(5, 5), padding='same'))\n",
    "model.add(BatchNormalization(axis=3))\n",
    "model.add(LeakyReLU(0.1))\n",
    "\n",
    "model.add(MaxPooling2D(pool_size=(3,3), strides=(2,2)))\n",
    "\n",
    "model.add(Conv2D(filters=256, kernel_size=(5, 5), padding='same'))\n",
    "model.add(BatchNormalization(axis=3))\n",
    "model.add(LeakyReLU(0.1))\n",
    "\n",
    "model.add(MaxPooling2D(pool_size=(3,3), strides=(2,2)))\n",
    "\n",
    "model.add(Flatten())\n",
    "\n",
    "model.add(Dropout(0.3))\n",
    "model.add(Dense(128))\n",
    "model.add(BatchNormalization(axis=-1))\n",
    "model.add(Activation('relu'))\n",
    "\n",
    "\n",
    "model.add(Dropout(0.3))\n",
    "model.add(Dense(num_classes))\n",
    "model.add(BatchNormalization(axis=-1))\n",
    "model.add(Activation('softmax'))\n",
    "\n",
    "model.compile(loss='categorical_crossentropy', optimizer='adam', metrics=['accuracy'])\n",
    "\n",
    "model.summary()"
   ]
  },
  {
   "cell_type": "code",
   "execution_count": 0,
   "metadata": {
    "colab": {},
    "colab_type": "code",
    "id": "8dflFlD93uBs"
   },
   "outputs": [],
   "source": [
    "# learning rate reduction\n",
    "learning_rate_reduction = ReduceLROnPlateau(monitor='val_acc', \n",
    "                                            patience=3, \n",
    "                                            verbose=1, \n",
    "                                            factor=0.4, \n",
    "                                            min_lr=0.00001)\n",
    "\n",
    "# checkpoints\n",
    "filepath=\"weight-cnn-filter.best_{epoch:02d}-{val_acc:.2f}.hdf5\"\n",
    "checkpoint = ModelCheckpoint(filepath, monitor='val_acc', \n",
    "                             verbose=1, save_best_only=True, mode='max')\n",
    "filepath=\"weights-cnn-filter.last_auto4.hdf5\"\n",
    "checkpoint_all = ModelCheckpoint(filepath, monitor='val_acc', \n",
    "                                 verbose=1, save_best_only=False, mode='max')\n",
    "\n",
    "BATCH_SIZE = 16"
   ]
  },
  {
   "cell_type": "code",
   "execution_count": 13,
   "metadata": {
    "colab": {
     "base_uri": "https://localhost:8080/",
     "height": 1000
    },
    "colab_type": "code",
    "id": "_0W85dAhcGkA",
    "outputId": "fc7da4c4-2f3f-47be-8f97-cdd4e14cadeb"
   },
   "outputs": [
    {
     "name": "stdout",
     "output_type": "stream",
     "text": [
      "Epoch 1/30\n",
      "2374/2375 [============================>.] - ETA: 0s - loss: 1.3016 - acc: 0.5774Epoch 1/30\n",
      " 950/2375 [===========>..................] - ETA: 1s - loss: 1.0372 - acc: 0.6611\n",
      "Epoch 00001: val_acc improved from -inf to 0.66105, saving model to weight-cnn-filter.best_01-0.66.hdf5\n",
      "\n",
      "Epoch 00001: saving model to weights-cnn-filter.last_auto4.hdf5\n",
      "2375/2375 [==============================] - 104s 44ms/step - loss: 1.3015 - acc: 0.5775 - val_loss: 1.0390 - val_acc: 0.6611\n",
      "Epoch 2/30\n",
      "2374/2375 [============================>.] - ETA: 0s - loss: 0.7820 - acc: 0.7509Epoch 1/30\n",
      " 944/2375 [==========>...................] - ETA: 1s - loss: 0.5349 - acc: 0.8093\n",
      "Epoch 00002: val_acc improved from 0.66105 to 0.80842, saving model to weight-cnn-filter.best_02-0.81.hdf5\n",
      "\n",
      "Epoch 00002: saving model to weights-cnn-filter.last_auto4.hdf5\n",
      "2375/2375 [==============================] - 97s 41ms/step - loss: 0.7820 - acc: 0.7508 - val_loss: 0.5386 - val_acc: 0.8084\n",
      "Epoch 3/30\n",
      "2374/2375 [============================>.] - ETA: 0s - loss: 0.5921 - acc: 0.8127Epoch 1/30\n",
      " 928/2375 [==========>...................] - ETA: 1s - loss: 0.4771 - acc: 0.8427\n",
      "Epoch 00003: val_acc improved from 0.80842 to 0.83684, saving model to weight-cnn-filter.best_03-0.84.hdf5\n",
      "\n",
      "Epoch 00003: saving model to weights-cnn-filter.last_auto4.hdf5\n",
      "2375/2375 [==============================] - 95s 40ms/step - loss: 0.5924 - acc: 0.8126 - val_loss: 0.5019 - val_acc: 0.8368\n",
      "Epoch 4/30\n",
      "2374/2375 [============================>.] - ETA: 0s - loss: 0.4746 - acc: 0.8510Epoch 1/30\n",
      " 912/2375 [==========>...................] - ETA: 1s - loss: 0.3821 - acc: 0.8860\n",
      "Epoch 00004: val_acc improved from 0.83684 to 0.88316, saving model to weight-cnn-filter.best_04-0.88.hdf5\n",
      "\n",
      "Epoch 00004: saving model to weights-cnn-filter.last_auto4.hdf5\n",
      "2375/2375 [==============================] - 96s 40ms/step - loss: 0.4748 - acc: 0.8510 - val_loss: 0.3985 - val_acc: 0.8832\n",
      "Epoch 5/30\n",
      "2374/2375 [============================>.] - ETA: 0s - loss: 0.4020 - acc: 0.8731Epoch 1/30\n",
      " 896/2375 [==========>...................] - ETA: 1s - loss: 0.3068 - acc: 0.8984\n",
      "Epoch 00005: val_acc improved from 0.88316 to 0.89789, saving model to weight-cnn-filter.best_05-0.90.hdf5\n",
      "\n",
      "Epoch 00005: saving model to weights-cnn-filter.last_auto4.hdf5\n",
      "2375/2375 [==============================] - 96s 40ms/step - loss: 0.4018 - acc: 0.8731 - val_loss: 0.3008 - val_acc: 0.8979\n",
      "Epoch 6/30\n",
      "2374/2375 [============================>.] - ETA: 0s - loss: 0.3478 - acc: 0.8882Epoch 1/30\n",
      " 944/2375 [==========>...................] - ETA: 1s - loss: 0.2644 - acc: 0.9121\n",
      "Epoch 00006: val_acc improved from 0.89789 to 0.91158, saving model to weight-cnn-filter.best_06-0.91.hdf5\n",
      "\n",
      "Epoch 00006: saving model to weights-cnn-filter.last_auto4.hdf5\n",
      "2375/2375 [==============================] - 96s 40ms/step - loss: 0.3478 - acc: 0.8882 - val_loss: 0.2657 - val_acc: 0.9116\n",
      "Epoch 7/30\n",
      "2373/2375 [============================>.] - ETA: 0s - loss: 0.3066 - acc: 0.9021Epoch 1/30\n",
      " 896/2375 [==========>...................] - ETA: 1s - loss: 0.2673 - acc: 0.9141\n",
      "Epoch 00007: val_acc did not improve from 0.91158\n",
      "\n",
      "Epoch 00007: saving model to weights-cnn-filter.last_auto4.hdf5\n",
      "2375/2375 [==============================] - 96s 40ms/step - loss: 0.3064 - acc: 0.9022 - val_loss: 0.2651 - val_acc: 0.9116\n",
      "Epoch 8/30\n",
      "2373/2375 [============================>.] - ETA: 0s - loss: 0.2822 - acc: 0.9100Epoch 1/30\n",
      " 896/2375 [==========>...................] - ETA: 1s - loss: 0.2783 - acc: 0.9051\n",
      "Epoch 00008: val_acc did not improve from 0.91158\n",
      "\n",
      "Epoch 00008: saving model to weights-cnn-filter.last_auto4.hdf5\n",
      "2375/2375 [==============================] - 95s 40ms/step - loss: 0.2821 - acc: 0.9100 - val_loss: 0.2702 - val_acc: 0.9074\n",
      "Epoch 9/30\n",
      "2374/2375 [============================>.] - ETA: 0s - loss: 0.2548 - acc: 0.9185Epoch 1/30\n",
      " 912/2375 [==========>...................] - ETA: 1s - loss: 0.2313 - acc: 0.9276\n",
      "Epoch 00009: val_acc improved from 0.91158 to 0.92737, saving model to weight-cnn-filter.best_09-0.93.hdf5\n",
      "\n",
      "Epoch 00009: saving model to weights-cnn-filter.last_auto4.hdf5\n",
      "2375/2375 [==============================] - 92s 39ms/step - loss: 0.2547 - acc: 0.9185 - val_loss: 0.2277 - val_acc: 0.9274\n",
      "Epoch 10/30\n",
      "2374/2375 [============================>.] - ETA: 0s - loss: 0.2327 - acc: 0.9249Epoch 1/30\n",
      " 950/2375 [===========>..................] - ETA: 1s - loss: 0.2274 - acc: 0.9211\n",
      "Epoch 00010: val_acc did not improve from 0.92737\n",
      "\n",
      "Epoch 00010: saving model to weights-cnn-filter.last_auto4.hdf5\n",
      "2375/2375 [==============================] - 91s 38ms/step - loss: 0.2327 - acc: 0.9249 - val_loss: 0.2320 - val_acc: 0.9211\n",
      "Epoch 11/30\n",
      "2373/2375 [============================>.] - ETA: 0s - loss: 0.2161 - acc: 0.9296Epoch 1/30\n",
      " 912/2375 [==========>...................] - ETA: 1s - loss: 0.1902 - acc: 0.9397\n",
      "Epoch 00011: val_acc improved from 0.92737 to 0.93895, saving model to weight-cnn-filter.best_11-0.94.hdf5\n",
      "\n",
      "Epoch 00011: saving model to weights-cnn-filter.last_auto4.hdf5\n",
      "2375/2375 [==============================] - 91s 38ms/step - loss: 0.2162 - acc: 0.9296 - val_loss: 0.1953 - val_acc: 0.9389\n",
      "Epoch 12/30\n",
      "2374/2375 [============================>.] - ETA: 0s - loss: 0.2012 - acc: 0.9346Epoch 1/30\n",
      " 944/2375 [==========>...................] - ETA: 1s - loss: 0.3700 - acc: 0.8570\n",
      "Epoch 00012: val_acc did not improve from 0.93895\n",
      "\n",
      "Epoch 00012: saving model to weights-cnn-filter.last_auto4.hdf5\n",
      "2375/2375 [==============================] - 90s 38ms/step - loss: 0.2015 - acc: 0.9345 - val_loss: 0.3847 - val_acc: 0.8547\n",
      "Epoch 13/30\n",
      "2374/2375 [============================>.] - ETA: 0s - loss: 0.1874 - acc: 0.9393Epoch 1/30\n",
      " 944/2375 [==========>...................] - ETA: 1s - loss: 0.3168 - acc: 0.8686\n",
      "Epoch 00013: val_acc did not improve from 0.93895\n",
      "\n",
      "Epoch 00013: saving model to weights-cnn-filter.last_auto4.hdf5\n",
      "2375/2375 [==============================] - 89s 38ms/step - loss: 0.1874 - acc: 0.9393 - val_loss: 0.3200 - val_acc: 0.8684\n",
      "Epoch 14/30\n",
      "2374/2375 [============================>.] - ETA: 0s - loss: 0.1751 - acc: 0.9438Epoch 1/30\n",
      " 912/2375 [==========>...................] - ETA: 1s - loss: 0.1882 - acc: 0.9276\n",
      "Epoch 00014: val_acc did not improve from 0.93895\n",
      "\n",
      "Epoch 00014: ReduceLROnPlateau reducing learning rate to 0.0004000000189989805.\n",
      "\n",
      "Epoch 00014: saving model to weights-cnn-filter.last_auto4.hdf5\n",
      "2375/2375 [==============================] - 92s 39ms/step - loss: 0.1752 - acc: 0.9438 - val_loss: 0.1902 - val_acc: 0.9274\n",
      "Epoch 15/30\n",
      "2374/2375 [============================>.] - ETA: 0s - loss: 0.1289 - acc: 0.9586Epoch 1/30\n",
      " 950/2375 [===========>..................] - ETA: 1s - loss: 0.1088 - acc: 0.9663\n",
      "Epoch 00015: val_acc improved from 0.93895 to 0.96632, saving model to weight-cnn-filter.best_15-0.97.hdf5\n",
      "\n",
      "Epoch 00015: saving model to weights-cnn-filter.last_auto4.hdf5\n",
      "2375/2375 [==============================] - 91s 38ms/step - loss: 0.1289 - acc: 0.9586 - val_loss: 0.1079 - val_acc: 0.9663\n",
      "Epoch 16/30\n",
      "2374/2375 [============================>.] - ETA: 0s - loss: 0.1155 - acc: 0.9619Epoch 1/30\n",
      " 912/2375 [==========>...................] - ETA: 1s - loss: 0.1382 - acc: 0.9474\n",
      "Epoch 00016: val_acc did not improve from 0.96632\n",
      "\n",
      "Epoch 00016: saving model to weights-cnn-filter.last_auto4.hdf5\n",
      "2375/2375 [==============================] - 89s 38ms/step - loss: 0.1155 - acc: 0.9620 - val_loss: 0.1407 - val_acc: 0.9484\n",
      "Epoch 17/30\n",
      "2373/2375 [============================>.] - ETA: 0s - loss: 0.1116 - acc: 0.9640Epoch 1/30\n",
      " 944/2375 [==========>...................] - ETA: 1s - loss: 0.1237 - acc: 0.9566\n",
      "Epoch 00017: val_acc did not improve from 0.96632\n",
      "\n",
      "Epoch 00017: saving model to weights-cnn-filter.last_auto4.hdf5\n",
      "2375/2375 [==============================] - 89s 38ms/step - loss: 0.1116 - acc: 0.9640 - val_loss: 0.1219 - val_acc: 0.9568\n",
      "Epoch 18/30\n",
      "2374/2375 [============================>.] - ETA: 0s - loss: 0.1056 - acc: 0.9649Epoch 1/30\n",
      " 912/2375 [==========>...................] - ETA: 1s - loss: 0.1251 - acc: 0.9616\n",
      "Epoch 00018: val_acc did not improve from 0.96632\n",
      "\n",
      "Epoch 00018: ReduceLROnPlateau reducing learning rate to 0.00016000000759959222.\n",
      "\n",
      "Epoch 00018: saving model to weights-cnn-filter.last_auto4.hdf5\n",
      "2375/2375 [==============================] - 90s 38ms/step - loss: 0.1055 - acc: 0.9649 - val_loss: 0.1282 - val_acc: 0.9611\n",
      "Epoch 19/30\n",
      "2373/2375 [============================>.] - ETA: 0s - loss: 0.0875 - acc: 0.9718Epoch 1/30\n",
      " 944/2375 [==========>...................] - ETA: 1s - loss: 0.1012 - acc: 0.9714\n",
      "Epoch 00019: val_acc improved from 0.96632 to 0.97158, saving model to weight-cnn-filter.best_19-0.97.hdf5\n",
      "\n",
      "Epoch 00019: saving model to weights-cnn-filter.last_auto4.hdf5\n",
      "2375/2375 [==============================] - 90s 38ms/step - loss: 0.0876 - acc: 0.9718 - val_loss: 0.0996 - val_acc: 0.9716\n",
      "Epoch 20/30\n",
      "2374/2375 [============================>.] - ETA: 0s - loss: 0.0815 - acc: 0.9735Epoch 1/30\n",
      " 944/2375 [==========>...................] - ETA: 1s - loss: 0.1108 - acc: 0.9703\n",
      "Epoch 00020: val_acc did not improve from 0.97158\n",
      "\n",
      "Epoch 00020: saving model to weights-cnn-filter.last_auto4.hdf5\n",
      "2375/2375 [==============================] - 89s 38ms/step - loss: 0.0815 - acc: 0.9735 - val_loss: 0.1090 - val_acc: 0.9705\n",
      "Epoch 21/30\n",
      "2373/2375 [============================>.] - ETA: 0s - loss: 0.0823 - acc: 0.9745Epoch 1/30\n",
      " 944/2375 [==========>...................] - ETA: 1s - loss: 0.1083 - acc: 0.9661\n",
      "Epoch 00021: val_acc did not improve from 0.97158\n",
      "\n",
      "Epoch 00021: saving model to weights-cnn-filter.last_auto4.hdf5\n",
      "2375/2375 [==============================] - 89s 37ms/step - loss: 0.0822 - acc: 0.9746 - val_loss: 0.1066 - val_acc: 0.9663\n",
      "Epoch 22/30\n",
      "2374/2375 [============================>.] - ETA: 0s - loss: 0.0746 - acc: 0.9753Epoch 1/30\n",
      " 896/2375 [==========>...................] - ETA: 1s - loss: 0.1231 - acc: 0.9587\n",
      "Epoch 00022: val_acc did not improve from 0.97158\n",
      "\n",
      "Epoch 00022: ReduceLROnPlateau reducing learning rate to 6.40000042039901e-05.\n",
      "\n",
      "Epoch 00022: saving model to weights-cnn-filter.last_auto4.hdf5\n",
      "2375/2375 [==============================] - 89s 37ms/step - loss: 0.0746 - acc: 0.9753 - val_loss: 0.1247 - val_acc: 0.9589\n",
      "Epoch 23/30\n",
      "2373/2375 [============================>.] - ETA: 0s - loss: 0.0702 - acc: 0.9783Epoch 1/30\n",
      " 950/2375 [===========>..................] - ETA: 1s - loss: 0.1120 - acc: 0.9653\n",
      "Epoch 00023: val_acc did not improve from 0.97158\n",
      "\n",
      "Epoch 00023: saving model to weights-cnn-filter.last_auto4.hdf5\n",
      "2375/2375 [==============================] - 88s 37ms/step - loss: 0.0701 - acc: 0.9783 - val_loss: 0.1109 - val_acc: 0.9653\n",
      "Epoch 24/30\n",
      "2374/2375 [============================>.] - ETA: 0s - loss: 0.0686 - acc: 0.9787Epoch 1/30\n",
      " 928/2375 [==========>...................] - ETA: 1s - loss: 0.1031 - acc: 0.9709\n",
      "Epoch 00024: val_acc did not improve from 0.97158\n",
      "\n",
      "Epoch 00024: saving model to weights-cnn-filter.last_auto4.hdf5\n",
      "2375/2375 [==============================] - 89s 37ms/step - loss: 0.0687 - acc: 0.9787 - val_loss: 0.1097 - val_acc: 0.9695\n",
      "Epoch 25/30\n",
      "2373/2375 [============================>.] - ETA: 0s - loss: 0.0654 - acc: 0.9795Epoch 1/30\n",
      " 912/2375 [==========>...................] - ETA: 1s - loss: 0.1126 - acc: 0.9660\n",
      "Epoch 00025: val_acc did not improve from 0.97158\n",
      "\n",
      "Epoch 00025: ReduceLROnPlateau reducing learning rate to 2.560000284574926e-05.\n",
      "\n",
      "Epoch 00025: saving model to weights-cnn-filter.last_auto4.hdf5\n",
      "2375/2375 [==============================] - 89s 38ms/step - loss: 0.0653 - acc: 0.9796 - val_loss: 0.1175 - val_acc: 0.9653\n",
      "Epoch 26/30\n",
      "2374/2375 [============================>.] - ETA: 0s - loss: 0.0619 - acc: 0.9810Epoch 1/30\n",
      " 950/2375 [===========>..................] - ETA: 1s - loss: 0.1113 - acc: 0.9695\n",
      "Epoch 00026: val_acc did not improve from 0.97158\n",
      "\n",
      "Epoch 00026: saving model to weights-cnn-filter.last_auto4.hdf5\n",
      "2375/2375 [==============================] - 94s 40ms/step - loss: 0.0619 - acc: 0.9810 - val_loss: 0.1101 - val_acc: 0.9695\n",
      "Epoch 27/30\n",
      "2373/2375 [============================>.] - ETA: 0s - loss: 0.0614 - acc: 0.9811Epoch 1/30\n",
      " 912/2375 [==========>...................] - ETA: 1s - loss: 0.1043 - acc: 0.9726\n",
      "Epoch 00027: val_acc did not improve from 0.97158\n",
      "\n",
      "Epoch 00027: saving model to weights-cnn-filter.last_auto4.hdf5\n",
      "2375/2375 [==============================] - 93s 39ms/step - loss: 0.0614 - acc: 0.9811 - val_loss: 0.1093 - val_acc: 0.9716\n",
      "Epoch 28/30\n",
      "2373/2375 [============================>.] - ETA: 0s - loss: 0.0606 - acc: 0.9812Epoch 1/30\n",
      " 928/2375 [==========>...................] - ETA: 1s - loss: 0.1027 - acc: 0.9709\n",
      "Epoch 00028: val_acc did not improve from 0.97158\n",
      "\n",
      "Epoch 00028: ReduceLROnPlateau reducing learning rate to 1.0240000847261399e-05.\n",
      "\n",
      "Epoch 00028: saving model to weights-cnn-filter.last_auto4.hdf5\n",
      "2375/2375 [==============================] - 92s 39ms/step - loss: 0.0606 - acc: 0.9812 - val_loss: 0.1085 - val_acc: 0.9695\n",
      "Epoch 29/30\n",
      "2373/2375 [============================>.] - ETA: 0s - loss: 0.0619 - acc: 0.9799Epoch 1/30\n",
      " 944/2375 [==========>...................] - ETA: 1s - loss: 0.1128 - acc: 0.9682\n",
      "Epoch 00029: val_acc did not improve from 0.97158\n",
      "\n",
      "Epoch 00029: saving model to weights-cnn-filter.last_auto4.hdf5\n",
      "2375/2375 [==============================] - 92s 39ms/step - loss: 0.0620 - acc: 0.9799 - val_loss: 0.1109 - val_acc: 0.9684\n",
      "Epoch 30/30\n",
      "2374/2375 [============================>.] - ETA: 0s - loss: 0.0598 - acc: 0.9811Epoch 1/30\n",
      " 896/2375 [==========>...................] - ETA: 1s - loss: 0.1072 - acc: 0.9699\n",
      "Epoch 00030: val_acc did not improve from 0.97158\n",
      "\n",
      "Epoch 00030: saving model to weights-cnn-filter.last_auto4.hdf5\n",
      "2375/2375 [==============================] - 94s 40ms/step - loss: 0.0598 - acc: 0.9811 - val_loss: 0.1099 - val_acc: 0.9695\n"
     ]
    }
   ],
   "source": [
    "# fit model\n",
    "hist = model.fit_generator(datagen.flow(X_train, y_train, batch_size=BATCH_SIZE),\n",
    "                           epochs=30,\n",
    "                           validation_data=(X_valid, y_valid), \n",
    "                           steps_per_epoch=(10*X_train.shape[0]) / BATCH_SIZE,\n",
    "                           callbacks=[checkpoint, learning_rate_reduction, checkpoint_all])\n"
   ]
  },
  {
   "cell_type": "code",
   "execution_count": 0,
   "metadata": {
    "colab": {},
    "colab_type": "code",
    "id": "7yYjyO9nuX6d"
   },
   "outputs": [],
   "source": [
    "from tensorflow.keras.utils import plot_model\n",
    "plot_model(model, to_file='CNN_filter_model_arch.png', dpi=200, show_shapes=True, show_layer_names=True)"
   ]
  },
  {
   "cell_type": "code",
   "execution_count": 14,
   "metadata": {
    "colab": {
     "base_uri": "https://localhost:8080/",
     "height": 281
    },
    "colab_type": "code",
    "id": "W-UUTZ0DbvzL",
    "outputId": "f2a4d533-21ef-4459-d8a8-033608b1aeea"
   },
   "outputs": [
    {
     "data": {
      "image/png": "[encoded data removed]",
      "text/plain": [
       "<Figure size 432x288 with 1 Axes>"
      ]
     },
     "metadata": {
      "tags": []
     },
     "output_type": "display_data"
    }
   ],
   "source": [
    "plt.plot(hist.history['acc'])\n",
    "plt.plot(hist.history['val_acc'])\n",
    "plt.title('Training for ' +str(30)+ ' epochs')\n",
    "plt.legend(['Training accuracy', 'Validation accuracy'], loc='lower right')\n",
    "plt.savefig('history_accuracy.png', dpi=200)\n",
    "plt.show()"
   ]
  },
  {
   "cell_type": "code",
   "execution_count": 0,
   "metadata": {
    "colab": {},
    "colab_type": "code",
    "id": "cwi2qemtbxLq"
   },
   "outputs": [],
   "source": [
    "import pickle\n",
    "with open('CNN_filter_history.pkl', 'wb') as file_pi:\n",
    "    pickle.dump(hist.history, file_pi)\n",
    "    \n",
    "model_json = model.to_json()\n",
    "with open(\"CNN_filter_model.json\", \"w\") as json_file:\n",
    "    json_file.write(model_json)"
   ]
  },
  {
   "cell_type": "code",
   "execution_count": 16,
   "metadata": {
    "colab": {
     "base_uri": "https://localhost:8080/",
     "height": 85
    },
    "colab_type": "code",
    "id": "-SSKdU-8cGey",
    "outputId": "7998251d-a07a-4012-dcb0-f8c2e89e73d6"
   },
   "outputs": [
    {
     "name": "stdout",
     "output_type": "stream",
     "text": [
      "3800/3800 [==============================] - 2s 597us/sample - loss: 0.0307 - acc: 0.9903\n",
      "Train accuracy [0.030691544165785768, 0.99026316]\n",
      "950/950 [==============================] - 1s 649us/sample - loss: 0.1006 - acc: 0.9716\n",
      "Validation accuracy [0.10055519155765835, 0.97157896]\n"
     ]
    }
   ],
   "source": [
    "model.load_weights(\"weight-cnn-filter.best_19-0.97.hdf5\")\n",
    "\n",
    "print(\"Train accuracy\", model.evaluate(X_train, y_train))  # Evaluate on train set\n",
    "print(\"Validation accuracy\", model.evaluate(X_valid, y_valid))  # Evaluate on test set"
   ]
  },
  {
   "cell_type": "code",
   "execution_count": 4,
   "metadata": {
    "colab": {
     "base_uri": "https://localhost:8080/",
     "height": 241
    },
    "colab_type": "code",
    "id": "xS6mEJv1weHZ",
    "outputId": "bb532a00-a964-4006-d972-920bba42fba2"
   },
   "outputs": [
    {
     "name": "stdout",
     "output_type": "stream",
     "text": [
      "WARNING:tensorflow:From /usr/local/lib/python3.6/dist-packages/tensorflow_core/python/ops/init_ops.py:97: calling GlorotUniform.__init__ (from tensorflow.python.ops.init_ops) with dtype is deprecated and will be removed in a future version.\n",
      "Instructions for updating:\n",
      "Call initializer instance with the dtype argument instead of passing it to the constructor\n",
      "WARNING:tensorflow:From /usr/local/lib/python3.6/dist-packages/tensorflow_core/python/ops/init_ops.py:97: calling Zeros.__init__ (from tensorflow.python.ops.init_ops) with dtype is deprecated and will be removed in a future version.\n",
      "Instructions for updating:\n",
      "Call initializer instance with the dtype argument instead of passing it to the constructor\n",
      "WARNING:tensorflow:From /usr/local/lib/python3.6/dist-packages/tensorflow_core/python/ops/resource_variable_ops.py:1630: calling BaseResourceVariable.__init__ (from tensorflow.python.ops.resource_variable_ops) with constraint is deprecated and will be removed in a future version.\n",
      "Instructions for updating:\n",
      "If using Keras pass *_constraint arguments to layers.\n",
      "WARNING:tensorflow:From /usr/local/lib/python3.6/dist-packages/tensorflow_core/python/ops/init_ops.py:97: calling Ones.__init__ (from tensorflow.python.ops.init_ops) with dtype is deprecated and will be removed in a future version.\n",
      "Instructions for updating:\n",
      "Call initializer instance with the dtype argument instead of passing it to the constructor\n"
     ]
    }
   ],
   "source": [
    "# load json and create model\n",
    "json_file = open('CNN_no_filter_model.json', 'r')\n",
    "loaded_model_json = json_file.read()\n",
    "json_file.close()\n",
    "loaded_model = model_from_json(loaded_model_json)"
   ]
  },
  {
   "cell_type": "code",
   "execution_count": 0,
   "metadata": {
    "colab": {},
    "colab_type": "code",
    "id": "NPC4P918ws8_"
   },
   "outputs": [],
   "source": [
    "from tensorflow.keras.utils import plot_model\n",
    "plot_model(loaded_model, to_file='CNN_filter_model_arch.png', dpi=200, show_layer_names=False, show_shapes=True)"
   ]
  },
  {
   "cell_type": "markdown",
   "metadata": {
    "colab_type": "text",
    "id": "Zo5Sh47Vt1Oe"
   },
   "source": [
    "# Confusion Matrix"
   ]
  },
  {
   "cell_type": "code",
   "execution_count": 17,
   "metadata": {
    "colab": {
     "base_uri": "https://localhost:8080/",
     "height": 711
    },
    "colab_type": "code",
    "id": "UlUt_qN7t3pj",
    "outputId": "58a3840f-df9e-4f50-f87b-b2903e5f6991"
   },
   "outputs": [
    {
     "data": {
      "image/png": "[encoded data removed]",
      "text/plain": [
       "<Figure size 720x720 with 2 Axes>"
      ]
     },
     "metadata": {
      "tags": []
     },
     "output_type": "display_data"
    }
   ],
   "source": [
    "def plot_confusion_matrix(cm, classes, normalize=False, title='Confusion matrix',cmap=plt.cm.Blues):\n",
    "    fig = plt.figure(figsize=(10,10))\n",
    "    plt.imshow(cm, interpolation='nearest', cmap=cmap)\n",
    "    plt.title(title)\n",
    "    plt.colorbar()\n",
    "    tick_marks = np.arange(len(classes))\n",
    "    plt.xticks(tick_marks, classes, rotation=90)\n",
    "    plt.yticks(tick_marks, classes)\n",
    "\n",
    "    if normalize:\n",
    "        cm = cm.astype('float') / cm.sum(axis=1)[:, np.newaxis]\n",
    "\n",
    "    thresh = cm.max() / 2.\n",
    "    for i, j in itertools.product(range(cm.shape[0]), range(cm.shape[1])):\n",
    "        plt.text(j, i, cm[i, j],\n",
    "                 horizontalalignment=\"center\",\n",
    "                 color=\"white\" if cm[i, j] > thresh else \"black\")\n",
    "\n",
    "    plt.tight_layout()\n",
    "    plt.ylabel('True label')\n",
    "    plt.xlabel('Predicted label')\n",
    "    plt.savefig('confusion_matrix.png', dpi=200)\n",
    "\n",
    "# Predict the values from the validation dataset\n",
    "y_pred = model.predict(X_valid)\n",
    "y_pred_classes = np.argmax(y_pred, axis = 1) \n",
    "y_true = np.argmax(y_valid, axis = 1) \n",
    "\n",
    "# confusion matrix\n",
    "confusionMTX = confusion_matrix(y_true, y_pred_classes) \n",
    "\n",
    "# plot the confusion matrix\n",
    "plot_confusion_matrix(confusionMTX, classes = le.classes_) \n"
   ]
  },
  {
   "cell_type": "markdown",
   "metadata": {
    "colab_type": "text",
    "id": "zUVMMx30uz07"
   },
   "source": [
    "# Predicting on Test Set"
   ]
  },
  {
   "cell_type": "code",
   "execution_count": 18,
   "metadata": {
    "colab": {
     "base_uri": "https://localhost:8080/",
     "height": 34
    },
    "colab_type": "code",
    "id": "f4UxIw5GuzC8",
    "outputId": "3dcab4d9-fd39-4683-cb70-396f168d2d05"
   },
   "outputs": [
    {
     "name": "stdout",
     "output_type": "stream",
     "text": [
      "(794, 70, 70, 3)\n"
     ]
    }
   ],
   "source": [
    "path =  TEST_DIRECTORY + '/*.png'\n",
    "files = glob(path)\n",
    "\n",
    "testImg = []\n",
    "testId = []\n",
    "num = len(files)\n",
    "\n",
    "# Obtain images and resizing, obtain labels\n",
    "for imag in files:\n",
    "    testId.append(imag.split('/')[-1])  # Images id's\n",
    "    \n",
    "    img = cv2.imread(imag)\n",
    "\n",
    "    blurr = cv2.GaussianBlur(img,(5,5),0)\n",
    "    hsv = cv2.cvtColor(blurr,cv2.COLOR_BGR2HSV)\n",
    "    mask = cv2.inRange(hsv,lwr_hsv,upr_hsv)\n",
    "    struc = cv2.getStructuringElement(cv2.MORPH_ELLIPSE,(11,11))\n",
    "    mask = cv2.morphologyEx(mask,cv2.MORPH_CLOSE,struc)\n",
    "    boolean = mask>0\n",
    "    new_img = np.zeros_like(img,np.uint8)\n",
    "    new_img[boolean] = img[boolean]\n",
    "    res_img = new_img\n",
    "\n",
    "\n",
    "    rez_img = cv2.resize(res_img, dsize =(IMG_WIDTH, IMG_HEIGHT),interpolation = cv2.INTER_AREA)\n",
    "    rez_img = rez_img.reshape(IMG_WIDTH, IMG_HEIGHT, 3)\n",
    "    testImg.append(rez_img)\n",
    "    \n",
    "    \n",
    "    \n",
    "    \n",
    "\n",
    "testImg = np.asarray(testImg)  # Train images set\n",
    "\n",
    "print(testImg.shape)"
   ]
  },
  {
   "cell_type": "code",
   "execution_count": 0,
   "metadata": {
    "colab": {},
    "colab_type": "code",
    "id": "fRSsTrquvZBD"
   },
   "outputs": [],
   "source": [
    "testImg = testImg / 255\n"
   ]
  },
  {
   "cell_type": "code",
   "execution_count": 0,
   "metadata": {
    "colab": {},
    "colab_type": "code",
    "id": "rcLkQ-19vv8I"
   },
   "outputs": [],
   "source": [
    "pred = model.predict(testImg)"
   ]
  },
  {
   "cell_type": "code",
   "execution_count": 0,
   "metadata": {
    "colab": {},
    "colab_type": "code",
    "id": "RXYNXG4JvwcP"
   },
   "outputs": [],
   "source": [
    "# Write result to file\n",
    "predNum = np.argmax(pred, axis=1)\n",
    "predStr = le.classes_[predNum]\n",
    "\n",
    "res = {'file': testId, 'species': predStr}\n",
    "res = pd.DataFrame(res)\n",
    "res.to_csv(\"res.csv\", index=False)"
   ]
  },
  {
   "cell_type": "markdown",
   "metadata": {
    "colab_type": "text",
    "id": "n8bd9YT9qeYq"
   },
   "source": [
    "# Test Score: 0.97103"
   ]
  },
  {
   "cell_type": "markdown",
   "metadata": {
    "colab_type": "text",
    "id": "5-bJZyem7IDb"
   },
   "source": [
    "# Extracting Last Layer Features"
   ]
  },
  {
   "cell_type": "code",
   "execution_count": 0,
   "metadata": {
    "colab": {},
    "colab_type": "code",
    "id": "p0CAYZkz7Ict"
   },
   "outputs": [],
   "source": [
    "model_feat = Model(inputs=model.input,outputs=model.get_layer('dense').output)\n",
    "\n",
    "feat_train = model_feat.predict(X_train)\n",
    "print(feat_train.shape)\n",
    "\n",
    "feat_val = model_feat.predict(X_valid)\n",
    "print(feat_val.shape)\n",
    "\n",
    "feat_test = model_feat.predict(testImg)\n",
    "print(feat_test.shape)"
   ]
  },
  {
   "cell_type": "code",
   "execution_count": 0,
   "metadata": {
    "colab": {},
    "colab_type": "code",
    "id": "TyafPsb67L_t"
   },
   "outputs": [],
   "source": [
    "np.save(\"X_train\", feat_train)\n",
    "np.save(\"X_valid\", feat_val)\n",
    "np.save(\"X_test\", feat_test)\n",
    "\n",
    "np.save(\"y_train\", y_train)\n",
    "np.save(\"y_valid\", y_valid)"
   ]
  },
  {
   "cell_type": "markdown",
   "metadata": {
    "colab_type": "text",
    "id": "t2-el4H3BpqY"
   },
   "source": [
    "# Some further analysis"
   ]
  },
  {
   "cell_type": "code",
   "execution_count": 32,
   "metadata": {
    "colab": {
     "base_uri": "https://localhost:8080/",
     "height": 476
    },
    "colab_type": "code",
    "id": "z-6KytEaBoZ2",
    "outputId": "0067da10-081f-421a-db3c-b2c047721a1e"
   },
   "outputs": [
    {
     "name": "stdout",
     "output_type": "stream",
     "text": [
      "Predicted: 4 | True: 0 | Index: 22\n",
      "Predicted: 0 | True: 6 | Index: 60\n",
      "Predicted: 0 | True: 6 | Index: 74\n",
      "Predicted: 11 | True: 6 | Index: 122\n",
      "Predicted: 6 | True: 7 | Index: 171\n",
      "Predicted: 3 | True: 8 | Index: 210\n",
      "Predicted: 3 | True: 8 | Index: 224\n",
      "Predicted: 0 | True: 6 | Index: 249\n",
      "Predicted: 10 | True: 2 | Index: 322\n",
      "Predicted: 0 | True: 6 | Index: 357\n",
      "Predicted: 4 | True: 11 | Index: 375\n",
      "Predicted: 6 | True: 0 | Index: 408\n",
      "Predicted: 0 | True: 6 | Index: 434\n",
      "Predicted: 4 | True: 6 | Index: 443\n",
      "Predicted: 0 | True: 6 | Index: 576\n",
      "Predicted: 0 | True: 6 | Index: 602\n",
      "Predicted: 0 | True: 6 | Index: 627\n",
      "Predicted: 6 | True: 0 | Index: 675\n",
      "Predicted: 4 | True: 3 | Index: 711\n",
      "Predicted: 1 | True: 9 | Index: 753\n",
      "Predicted: 1 | True: 10 | Index: 772\n",
      "Predicted: 4 | True: 0 | Index: 827\n",
      "Predicted: 6 | True: 0 | Index: 829\n",
      "Predicted: 0 | True: 6 | Index: 839\n",
      "Predicted: 8 | True: 7 | Index: 847\n",
      "Predicted: 8 | True: 9 | Index: 929\n",
      "Predicted: 6 | True: 0 | Index: 936\n"
     ]
    }
   ],
   "source": [
    "mis_class = []\n",
    "\n",
    "# Predict the values from the validation dataset\n",
    "y_pred = model.predict(X_valid)\n",
    "y_pred_classes = np.argmax(y_pred, axis = 1) \n",
    "y_true = np.argmax(y_valid, axis = 1) \n",
    "\n",
    "for i in range(len(y_pred)):\n",
    "    if(not y_pred_classes[i] == y_true[i]):\n",
    "        print(\"Predicted:\", y_pred_classes[i], \"| True:\", y_true[i], \"| Index:\", i)\n"
   ]
  },
  {
   "cell_type": "code",
   "execution_count": 13,
   "metadata": {
    "colab": {
     "base_uri": "https://localhost:8080/",
     "height": 243
    },
    "colab_type": "code",
    "id": "LVp1pegICbFc",
    "outputId": "89eef75d-75c5-4932-a82f-6c00ad0847cf"
   },
   "outputs": [
    {
     "data": {
      "image/png": "[encoded data removed]",
      "text/plain": [
       "<Figure size 432x288 with 8 Axes>"
      ]
     },
     "metadata": {
      "tags": []
     },
     "output_type": "display_data"
    }
   ],
   "source": [
    "difficults = [60, 74, 576, 602, 627, 675, 936, 839]\n",
    "\n",
    "for i in range(8):\n",
    "    plt.subplot(2, 4, i + 1)\n",
    "    plt.imshow(X_valid[difficults[i]])"
   ]
  }
 ],
 "metadata": {
  "accelerator": "GPU",
  "colab": {
   "collapsed_sections": [],
   "name": "[CNN_filter]_Plant_Seedlings.ipynb",
   "provenance": []
  },
  "kernelspec": {
   "display_name": "Python 3",
   "language": "python",
   "name": "python3"
  },
  "language_info": {
   "codemirror_mode": {
    "name": "ipython",
    "version": 3
   },
   "file_extension": ".py",
   "mimetype": "text/x-python",
   "name": "python",
   "nbconvert_exporter": "python",
   "pygments_lexer": "ipython3",
   "version": "3.6.8"
  }
 },
 "nbformat": 4,
 "nbformat_minor": 1
}
