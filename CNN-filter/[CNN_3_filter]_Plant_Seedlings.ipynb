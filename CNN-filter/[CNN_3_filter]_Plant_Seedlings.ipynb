{
  "nbformat": 4,
  "nbformat_minor": 0,
  "metadata": {
    "colab": {
      "name": "[CNN_3-filter]_Plant_Seedlings.ipynb",
      "provenance": [],
      "collapsed_sections": [],
      "toc_visible": true
    },
    "kernelspec": {
      "name": "python3",
      "display_name": "Python 3"
    },
    "accelerator": "GPU"
  },
  "cells": [
    {
      "cell_type": "code",
      "metadata": {
        "id": "tviqi2yaN5dU",
        "colab_type": "code",
        "colab": {}
      },
      "source": [
        "!mkdir /root/.kaggle\n",
        "## Upload the kaggle.json file.\n",
        "!cp kaggle.json /root/.kaggle/kaggle.json\n",
        "!chmod 600 /root/.kaggle/kaggle.json"
      ],
      "execution_count": 0,
      "outputs": []
    },
    {
      "cell_type": "code",
      "metadata": {
        "id": "1A3YzlP1S3Ke",
        "colab_type": "code",
        "colab": {}
      },
      "source": [
        "!kaggle competitions download -c plant-seedlings-classification\n",
        "!unzip test.zip\n",
        "!unzip train.zip\n",
        "!rm train.zip test.zip sample_submission.csv.zip"
      ],
      "execution_count": 0,
      "outputs": []
    },
    {
      "cell_type": "code",
      "metadata": {
        "id": "TIvQSIH6T4Ta",
        "colab_type": "code",
        "colab": {}
      },
      "source": [
        "%matplotlib inline\n",
        "import matplotlib.pyplot as plt\n",
        "\n",
        "import numpy as np\n",
        "import pandas as pd\n",
        "\n",
        "import os\n",
        "import cv2\n",
        "import math\n",
        "import itertools\n",
        "\n",
        "\n",
        "from glob import glob\n",
        "from sklearn import preprocessing\n",
        "from sklearn.model_selection import train_test_split\n",
        "from sklearn.metrics import confusion_matrix\n",
        "\n",
        "\n",
        "%tensorflow_version 1.x\n",
        "from tensorflow.keras.utils import to_categorical\n",
        "from tensorflow.keras.models import Sequential\n",
        "from tensorflow.keras.layers import Conv2D, MaxPooling2D, GlobalAveragePooling2D, Dense, Dropout, Activation, Flatten, BatchNormalization, LeakyReLU\n",
        "from tensorflow.keras.optimizers import RMSprop, Adadelta, SGD, Adam\n",
        "from tensorflow.keras.regularizers import l2\n",
        "from tensorflow.keras.preprocessing.image import ImageDataGenerator\n",
        "from tensorflow.keras.callbacks import LearningRateScheduler, EarlyStopping, ReduceLROnPlateau, ModelCheckpoint\n",
        "from tensorflow.keras.optimizers.schedules import ExponentialDecay"
      ],
      "execution_count": 0,
      "outputs": []
    },
    {
      "cell_type": "markdown",
      "metadata": {
        "id": "bq8FkGGcb9vh",
        "colab_type": "text"
      },
      "source": [
        "# Constants"
      ]
    },
    {
      "cell_type": "code",
      "metadata": {
        "id": "-ti20kvWZ48j",
        "colab_type": "code",
        "colab": {}
      },
      "source": [
        "TRAIN_DIRECTORY = \"train\"\n",
        "TEST_DIRECTORY = \"test\"\n",
        "IMG_HEIGHT = 70\n",
        "IMG_WIDTH = 70\n",
        "CATEGORIES = os.listdir(TRAIN_DIRECTORY)\n",
        "num_classes = len(CATEGORIES)\n",
        "\n",
        "FILTER = True"
      ],
      "execution_count": 0,
      "outputs": []
    },
    {
      "cell_type": "markdown",
      "metadata": {
        "id": "6AcDYHwEb_zw",
        "colab_type": "text"
      },
      "source": [
        "# Data Loading"
      ]
    },
    {
      "cell_type": "code",
      "metadata": {
        "id": "uz_o7Io2wq80",
        "colab_type": "code",
        "outputId": "c96755a1-ef0c-4394-fbd7-d2e0062f4d54",
        "colab": {
          "base_uri": "https://localhost:8080/",
          "height": 51
        }
      },
      "source": [
        "path_to_all_files = TRAIN_DIRECTORY + '/*/*.png' \n",
        "files = glob(path_to_all_files)\n",
        "\n",
        "trainImg = []\n",
        "trainLabel = []\n",
        "num = len(files)\n",
        "\n",
        "# Obtain images and resizing, obtain labels\n",
        "for img in files:\n",
        "    trainImg.append(cv2.resize(cv2.imread(img), (IMG_WIDTH, IMG_HEIGHT)))  # Get image (with resizing)\n",
        "    trainLabel.append(img.split('/')[-2])  # Get image label (folder name)\n",
        "\n",
        "trainImg = np.asarray(trainImg)  # Train images set\n",
        "trainLabel = pd.DataFrame(trainLabel)  # Train labels set\n",
        "\n",
        "print(trainImg.shape)\n",
        "print(trainLabel.shape)"
      ],
      "execution_count": 13,
      "outputs": [
        {
          "output_type": "stream",
          "text": [
            "(4750, 70, 70, 3)\n",
            "(4750, 1)\n"
          ],
          "name": "stdout"
        }
      ]
    },
    {
      "cell_type": "code",
      "metadata": {
        "id": "JK-WE8HmwrWw",
        "colab_type": "code",
        "colab": {}
      },
      "source": [
        "for i in range(8):\n",
        "    plt.subplot(2, 4, i + 1)\n",
        "    plt.imshow(trainImg[i*100])"
      ],
      "execution_count": 0,
      "outputs": []
    },
    {
      "cell_type": "markdown",
      "metadata": {
        "id": "I_XBb2GEy-YL",
        "colab_type": "text"
      },
      "source": [
        "# Cleaning data"
      ]
    },
    {
      "cell_type": "markdown",
      "metadata": {
        "id": "soS5Wo-wzUs9",
        "colab_type": "text"
      },
      "source": [
        "## Background Removing"
      ]
    },
    {
      "cell_type": "code",
      "metadata": {
        "id": "kkW-zA-Mcg_T",
        "colab_type": "code",
        "colab": {}
      },
      "source": [
        "def create_mask_for_plant(image):\n",
        "    image_hsv = cv2.cvtColor(image, cv2.COLOR_BGR2HSV)\n",
        "\n",
        "    sensitivity = 35\n",
        "    lower_hsv = np.array([60 - sensitivity, 100, 50])\n",
        "    upper_hsv = np.array([60 + sensitivity, 255, 255])\n",
        "\n",
        "    mask = cv2.inRange(image_hsv, lower_hsv, upper_hsv)\n",
        "    kernel = cv2.getStructuringElement(cv2.MORPH_ELLIPSE, (11,11))\n",
        "    mask = cv2.morphologyEx(mask, cv2.MORPH_CLOSE, kernel)\n",
        "    \n",
        "    return mask\n",
        "\n",
        "def segment_plant(image):\n",
        "    mask = create_mask_for_plant(image)\n",
        "    output = cv2.bitwise_and(image, image, mask = mask)\n",
        "    return output\n",
        "\n",
        "def sharpen_image(image):\n",
        "    image_blurred = cv2.GaussianBlur(image, (0, 0), 3)\n",
        "    image_sharp = cv2.addWeighted(image, 1.5, image_blurred, -0.5, 0)\n",
        "    return image_sharp"
      ],
      "execution_count": 0,
      "outputs": []
    },
    {
      "cell_type": "code",
      "metadata": {
        "id": "tPWJynk_wq65",
        "colab_type": "code",
        "colab": {}
      },
      "source": [
        "clearTrainImg = []\n",
        "for img in trainImg:\n",
        "    image = sharpen_image(segment_plant(img))\n",
        "    clearTrainImg.append(image)\n",
        "    \n",
        "clearTrainImg = np.asarray(clearTrainImg)"
      ],
      "execution_count": 0,
      "outputs": []
    },
    {
      "cell_type": "code",
      "metadata": {
        "id": "sbGP0kmUjXoA",
        "colab_type": "code",
        "colab": {}
      },
      "source": [
        "for i in range(8):\n",
        "    plt.subplot(2, 4, i + 1)\n",
        "    plt.imshow(clearTrainImg[i*10])"
      ],
      "execution_count": 0,
      "outputs": []
    },
    {
      "cell_type": "markdown",
      "metadata": {
        "id": "VKlGbXSgzXdF",
        "colab_type": "text"
      },
      "source": [
        "## Normalize Input & Categorize Labels"
      ]
    },
    {
      "cell_type": "code",
      "metadata": {
        "id": "wGfk80uUzcpC",
        "colab_type": "code",
        "colab": {}
      },
      "source": [
        "if FILTER == False:\n",
        "  trainImg = trainImg / 255\n",
        "else:\n",
        "  trainImg = clearTrainImg / 255\n"
      ],
      "execution_count": 0,
      "outputs": []
    },
    {
      "cell_type": "code",
      "metadata": {
        "id": "zK83iYHfzcnP",
        "colab_type": "code",
        "outputId": "5456aa05-bf80-470d-c065-4cb828f61546",
        "colab": {
          "base_uri": "https://localhost:8080/",
          "height": 416
        }
      },
      "source": [
        "le = preprocessing.LabelEncoder()\n",
        "encodeTrainLabels = le.fit_transform(trainLabel[0])\n",
        "clearTrainLabel = to_categorical(encodeTrainLabels)\n",
        "\n",
        "# Plot of label types numbers\n",
        "trainLabel[0].value_counts().plot(kind='bar', title=\"# classes:\" + str(clearTrainLabel.shape[1]))\n"
      ],
      "execution_count": 17,
      "outputs": [
        {
          "output_type": "execute_result",
          "data": {
            "text/plain": [
              "<matplotlib.axes._subplots.AxesSubplot at 0x7f6f571a1c18>"
            ]
          },
          "metadata": {
            "tags": []
          },
          "execution_count": 17
        },
        {
          "output_type": "display_data",
          "data": {
            "image/png": "[encoded data removed]",
            "text/plain": [
              "<Figure size 432x288 with 1 Axes>"
            ]
          },
          "metadata": {
            "tags": []
          }
        }
      ]
    },
    {
      "cell_type": "markdown",
      "metadata": {
        "id": "lfNky0yTcD_C",
        "colab_type": "text"
      },
      "source": [
        "# Model Definition"
      ]
    },
    {
      "cell_type": "markdown",
      "metadata": {
        "id": "-yfs8lqX2CQv",
        "colab_type": "text"
      },
      "source": [
        "## Data splitting and Generator"
      ]
    },
    {
      "cell_type": "code",
      "metadata": {
        "id": "O0Z5tH3S2Bjg",
        "colab_type": "code",
        "colab": {}
      },
      "source": [
        "X_train, X_valid, y_train, y_valid = train_test_split(trainImg, clearTrainLabel, \n",
        "                                                test_size=0.2, random_state=33, \n",
        "                                                stratify = clearTrainLabel)"
      ],
      "execution_count": 0,
      "outputs": []
    },
    {
      "cell_type": "code",
      "metadata": {
        "id": "4PbdbKNt2iiM",
        "colab_type": "code",
        "colab": {}
      },
      "source": [
        "datagen = ImageDataGenerator(\n",
        "        rotation_range=180,  # randomly rotate images in the range\n",
        "        zoom_range = 0.1, # Randomly zoom image \n",
        "        width_shift_range=0.1,  # randomly shift images horizontally\n",
        "        height_shift_range=0.1,  # randomly shift images vertically \n",
        "        horizontal_flip=True,  # randomly flip images horizontally\n",
        "        vertical_flip=True  # randomly flip images vertically\n",
        "    )  \n",
        "datagen.fit(X_train)"
      ],
      "execution_count": 0,
      "outputs": []
    },
    {
      "cell_type": "markdown",
      "metadata": {
        "id": "QTzKJVGh2K88",
        "colab_type": "text"
      },
      "source": [
        "## Model Architecture"
      ]
    },
    {
      "cell_type": "code",
      "metadata": {
        "id": "dMpN7QMtcGha",
        "colab_type": "code",
        "outputId": "077cbd66-2db8-4573-c7a6-ae12c37256a8",
        "colab": {
          "base_uri": "https://localhost:8080/",
          "height": 1000
        }
      },
      "source": [
        "model = Sequential()\n",
        "\n",
        "model.add(Conv2D(filters=64, kernel_size=(5, 5), padding='same', input_shape=(IMG_WIDTH, IMG_WIDTH, 3)))\n",
        "model.add(BatchNormalization(axis=3))\n",
        "model.add(LeakyReLU(0.1))\n",
        "\n",
        "model.add(Conv2D(filters=64,kernel_size=(5, 5), padding='same'))\n",
        "model.add(BatchNormalization(axis=3))\n",
        "model.add(LeakyReLU(0.1))\n",
        "\n",
        "model.add(MaxPooling2D(pool_size=(3,3), strides=(2,2)))\n",
        "\n",
        "model.add(Conv2D(filters=128, kernel_size=(5, 5), padding='same'))\n",
        "model.add(BatchNormalization(axis=3))\n",
        "model.add(LeakyReLU(0.1))\n",
        "\n",
        "model.add(Conv2D(filters=128, kernel_size=(5, 5), padding='same'))\n",
        "model.add(BatchNormalization(axis=3))\n",
        "model.add(LeakyReLU(0.1))\n",
        "\n",
        "model.add(MaxPooling2D(pool_size=(3,3), strides=(2,2)))\n",
        "\n",
        "model.add(Conv2D(filters=256, kernel_size=(5, 5), padding='same'))\n",
        "model.add(BatchNormalization(axis=3))\n",
        "model.add(LeakyReLU(0.1))\n",
        "\n",
        "model.add(Conv2D(filters=256, kernel_size=(5, 5), padding='same'))\n",
        "model.add(BatchNormalization(axis=3))\n",
        "model.add(LeakyReLU(0.1))\n",
        "\n",
        "model.add(Conv2D(filters=256, kernel_size=(5, 5), padding='same'))\n",
        "model.add(BatchNormalization(axis=3))\n",
        "model.add(LeakyReLU(0.1))\n",
        "\n",
        "model.add(MaxPooling2D(pool_size=(3,3), strides=(2,2)))\n",
        "\n",
        "model.add(Conv2D(filters=256, kernel_size=(5, 5), padding='same'))\n",
        "model.add(BatchNormalization(axis=3))\n",
        "model.add(LeakyReLU(0.1))\n",
        "\n",
        "model.add(MaxPooling2D(pool_size=(3,3), strides=(2,2)))\n",
        "\n",
        "model.add(Flatten())\n",
        "\n",
        "model.add(Dropout(0.3))\n",
        "model.add(Dense(128))\n",
        "model.add(BatchNormalization(axis=-1))\n",
        "model.add(Activation('relu'))\n",
        "\n",
        "\n",
        "model.add(Dropout(0.3))\n",
        "model.add(Dense(num_classes))\n",
        "model.add(BatchNormalization(axis=-1))\n",
        "model.add(Activation('softmax'))\n",
        "\n",
        "model.compile(loss='categorical_crossentropy', optimizer='adam', metrics=['accuracy'])\n",
        "\n",
        "model.summary()"
      ],
      "execution_count": 21,
      "outputs": [
        {
          "output_type": "stream",
          "text": [
            "Model: \"sequential_1\"\n",
            "_________________________________________________________________\n",
            "Layer (type)                 Output Shape              Param #   \n",
            "=================================================================\n",
            "conv2d_7 (Conv2D)            (None, 70, 70, 64)        4864      \n",
            "_________________________________________________________________\n",
            "batch_normalization_9 (Batch (None, 70, 70, 64)        256       \n",
            "_________________________________________________________________\n",
            "leaky_re_lu_7 (LeakyReLU)    (None, 70, 70, 64)        0         \n",
            "_________________________________________________________________\n",
            "conv2d_8 (Conv2D)            (None, 70, 70, 64)        102464    \n",
            "_________________________________________________________________\n",
            "batch_normalization_10 (Batc (None, 70, 70, 64)        256       \n",
            "_________________________________________________________________\n",
            "leaky_re_lu_8 (LeakyReLU)    (None, 70, 70, 64)        0         \n",
            "_________________________________________________________________\n",
            "max_pooling2d_3 (MaxPooling2 (None, 34, 34, 64)        0         \n",
            "_________________________________________________________________\n",
            "conv2d_9 (Conv2D)            (None, 34, 34, 128)       204928    \n",
            "_________________________________________________________________\n",
            "batch_normalization_11 (Batc (None, 34, 34, 128)       512       \n",
            "_________________________________________________________________\n",
            "leaky_re_lu_9 (LeakyReLU)    (None, 34, 34, 128)       0         \n",
            "_________________________________________________________________\n",
            "conv2d_10 (Conv2D)           (None, 34, 34, 128)       409728    \n",
            "_________________________________________________________________\n",
            "batch_normalization_12 (Batc (None, 34, 34, 128)       512       \n",
            "_________________________________________________________________\n",
            "leaky_re_lu_10 (LeakyReLU)   (None, 34, 34, 128)       0         \n",
            "_________________________________________________________________\n",
            "max_pooling2d_4 (MaxPooling2 (None, 16, 16, 128)       0         \n",
            "_________________________________________________________________\n",
            "conv2d_11 (Conv2D)           (None, 16, 16, 256)       819456    \n",
            "_________________________________________________________________\n",
            "batch_normalization_13 (Batc (None, 16, 16, 256)       1024      \n",
            "_________________________________________________________________\n",
            "leaky_re_lu_11 (LeakyReLU)   (None, 16, 16, 256)       0         \n",
            "_________________________________________________________________\n",
            "conv2d_12 (Conv2D)           (None, 16, 16, 256)       1638656   \n",
            "_________________________________________________________________\n",
            "batch_normalization_14 (Batc (None, 16, 16, 256)       1024      \n",
            "_________________________________________________________________\n",
            "leaky_re_lu_12 (LeakyReLU)   (None, 16, 16, 256)       0         \n",
            "_________________________________________________________________\n",
            "conv2d_13 (Conv2D)           (None, 16, 16, 256)       1638656   \n",
            "_________________________________________________________________\n",
            "batch_normalization_15 (Batc (None, 16, 16, 256)       1024      \n",
            "_________________________________________________________________\n",
            "leaky_re_lu_13 (LeakyReLU)   (None, 16, 16, 256)       0         \n",
            "_________________________________________________________________\n",
            "max_pooling2d_5 (MaxPooling2 (None, 7, 7, 256)         0         \n",
            "_________________________________________________________________\n",
            "conv2d_14 (Conv2D)           (None, 7, 7, 256)         1638656   \n",
            "_________________________________________________________________\n",
            "batch_normalization_16 (Batc (None, 7, 7, 256)         1024      \n",
            "_________________________________________________________________\n",
            "leaky_re_lu_14 (LeakyReLU)   (None, 7, 7, 256)         0         \n",
            "_________________________________________________________________\n",
            "max_pooling2d_6 (MaxPooling2 (None, 3, 3, 256)         0         \n",
            "_________________________________________________________________\n",
            "flatten_1 (Flatten)          (None, 2304)              0         \n",
            "_________________________________________________________________\n",
            "dropout_2 (Dropout)          (None, 2304)              0         \n",
            "_________________________________________________________________\n",
            "dense_2 (Dense)              (None, 128)               295040    \n",
            "_________________________________________________________________\n",
            "batch_normalization_17 (Batc (None, 128)               512       \n",
            "_________________________________________________________________\n",
            "activation_2 (Activation)    (None, 128)               0         \n",
            "_________________________________________________________________\n",
            "dropout_3 (Dropout)          (None, 128)               0         \n",
            "_________________________________________________________________\n",
            "dense_3 (Dense)              (None, 12)                1548      \n",
            "_________________________________________________________________\n",
            "batch_normalization_18 (Batc (None, 12)                48        \n",
            "_________________________________________________________________\n",
            "activation_3 (Activation)    (None, 12)                0         \n",
            "=================================================================\n",
            "Total params: 6,760,188\n",
            "Trainable params: 6,757,092\n",
            "Non-trainable params: 3,096\n",
            "_________________________________________________________________\n"
          ],
          "name": "stdout"
        }
      ]
    },
    {
      "cell_type": "code",
      "metadata": {
        "id": "8dflFlD93uBs",
        "colab_type": "code",
        "colab": {}
      },
      "source": [
        "# learning rate reduction\n",
        "learning_rate_reduction = ReduceLROnPlateau(monitor='val_acc', \n",
        "                                            patience=3, \n",
        "                                            verbose=1, \n",
        "                                            factor=0.4, \n",
        "                                            min_lr=0.00001)\n",
        "\n",
        "# checkpoints\n",
        "filepath=\"weight-cnn-filter.best_{epoch:02d}-{val_acc:.2f}.hdf5\"\n",
        "checkpoint = ModelCheckpoint(filepath, monitor='val_acc', \n",
        "                             verbose=1, save_best_only=True, mode='max')\n",
        "filepath=\"weights-cnn-filter.last_auto4.hdf5\"\n",
        "checkpoint_all = ModelCheckpoint(filepath, monitor='val_acc', \n",
        "                                 verbose=1, save_best_only=False, mode='max')\n",
        "\n",
        "BATCH_SIZE = 16"
      ],
      "execution_count": 0,
      "outputs": []
    },
    {
      "cell_type": "code",
      "metadata": {
        "id": "_0W85dAhcGkA",
        "colab_type": "code",
        "outputId": "f0ebfa9f-7fa7-4462-ec95-53148ee55565",
        "colab": {
          "base_uri": "https://localhost:8080/",
          "height": 1000
        }
      },
      "source": [
        "# fit model\n",
        "hist = model.fit_generator(datagen.flow(X_train, y_train, batch_size=BATCH_SIZE), \n",
        "                           epochs=20,\n",
        "                           validation_data=(X_valid, y_valid), \n",
        "                           steps_per_epoch=(10 * X_train.shape[0]) / BATCH_SIZE,\n",
        "                           callbacks=[checkpoint, learning_rate_reduction, checkpoint_all])\n"
      ],
      "execution_count": 24,
      "outputs": [
        {
          "output_type": "stream",
          "text": [
            "Epoch 1/20\n",
            "2374/2375 [============================>.] - ETA: 0s - loss: 1.1704 - acc: 0.6284Epoch 1/20\n",
            " 950/2375 [===========>..................] - ETA: 1s - loss: 1.4498 - acc: 0.5905\n",
            "Epoch 00001: val_acc improved from -inf to 0.59053, saving model to weight-cnn-filter.best_01-0.59.hdf5\n",
            "\n",
            "Epoch 00001: saving model to weights-cnn-filter.last_auto4.hdf5\n",
            "2375/2375 [==============================] - 79s 33ms/step - loss: 1.1703 - acc: 0.6284 - val_loss: 1.4438 - val_acc: 0.5905\n",
            "Epoch 2/20\n",
            "2374/2375 [============================>.] - ETA: 0s - loss: 0.6869 - acc: 0.7878Epoch 1/20\n",
            " 896/2375 [==========>...................] - ETA: 1s - loss: 0.3796 - acc: 0.8750\n",
            "Epoch 00002: val_acc improved from 0.59053 to 0.87684, saving model to weight-cnn-filter.best_02-0.88.hdf5\n",
            "\n",
            "Epoch 00002: saving model to weights-cnn-filter.last_auto4.hdf5\n",
            "2375/2375 [==============================] - 72s 30ms/step - loss: 0.6868 - acc: 0.7878 - val_loss: 0.3766 - val_acc: 0.8768\n",
            "Epoch 3/20\n",
            "2373/2375 [============================>.] - ETA: 0s - loss: 0.5111 - acc: 0.8424Epoch 1/20\n",
            " 896/2375 [==========>...................] - ETA: 1s - loss: 0.3870 - acc: 0.8705\n",
            "Epoch 00003: val_acc did not improve from 0.87684\n",
            "\n",
            "Epoch 00003: saving model to weights-cnn-filter.last_auto4.hdf5\n",
            "2375/2375 [==============================] - 72s 30ms/step - loss: 0.5110 - acc: 0.8424 - val_loss: 0.3894 - val_acc: 0.8716\n",
            "Epoch 4/20\n",
            "2373/2375 [============================>.] - ETA: 0s - loss: 0.4045 - acc: 0.8737Epoch 1/20\n",
            " 950/2375 [===========>..................] - ETA: 1s - loss: 0.4108 - acc: 0.8600\n",
            "Epoch 00004: val_acc did not improve from 0.87684\n",
            "\n",
            "Epoch 00004: saving model to weights-cnn-filter.last_auto4.hdf5\n",
            "2375/2375 [==============================] - 72s 30ms/step - loss: 0.4045 - acc: 0.8737 - val_loss: 0.4120 - val_acc: 0.8600\n",
            "Epoch 5/20\n",
            "2373/2375 [============================>.] - ETA: 0s - loss: 0.3438 - acc: 0.8922Epoch 1/20\n",
            " 944/2375 [==========>...................] - ETA: 1s - loss: 0.2328 - acc: 0.9131\n",
            "Epoch 00005: val_acc improved from 0.87684 to 0.91158, saving model to weight-cnn-filter.best_05-0.91.hdf5\n",
            "\n",
            "Epoch 00005: saving model to weights-cnn-filter.last_auto4.hdf5\n",
            "2375/2375 [==============================] - 72s 30ms/step - loss: 0.3439 - acc: 0.8921 - val_loss: 0.2412 - val_acc: 0.9116\n",
            "Epoch 6/20\n",
            "2374/2375 [============================>.] - ETA: 0s - loss: 0.2959 - acc: 0.9052Epoch 1/20\n",
            " 896/2375 [==========>...................] - ETA: 1s - loss: 0.1946 - acc: 0.9286\n",
            "Epoch 00006: val_acc improved from 0.91158 to 0.93158, saving model to weight-cnn-filter.best_06-0.93.hdf5\n",
            "\n",
            "Epoch 00006: saving model to weights-cnn-filter.last_auto4.hdf5\n",
            "2375/2375 [==============================] - 72s 30ms/step - loss: 0.2959 - acc: 0.9052 - val_loss: 0.1921 - val_acc: 0.9316\n",
            "Epoch 7/20\n",
            "2373/2375 [============================>.] - ETA: 0s - loss: 0.2681 - acc: 0.9140Epoch 1/20\n",
            " 896/2375 [==========>...................] - ETA: 1s - loss: 0.1877 - acc: 0.9286\n",
            "Epoch 00007: val_acc did not improve from 0.93158\n",
            "\n",
            "Epoch 00007: saving model to weights-cnn-filter.last_auto4.hdf5\n",
            "2375/2375 [==============================] - 72s 30ms/step - loss: 0.2682 - acc: 0.9140 - val_loss: 0.1817 - val_acc: 0.9316\n",
            "Epoch 8/20\n",
            "2373/2375 [============================>.] - ETA: 0s - loss: 0.2361 - acc: 0.9234Epoch 1/20\n",
            " 928/2375 [==========>...................] - ETA: 1s - loss: 0.2250 - acc: 0.9256\n",
            "Epoch 00008: val_acc did not improve from 0.93158\n",
            "\n",
            "Epoch 00008: saving model to weights-cnn-filter.last_auto4.hdf5\n",
            "2375/2375 [==============================] - 72s 30ms/step - loss: 0.2360 - acc: 0.9234 - val_loss: 0.2306 - val_acc: 0.9242\n",
            "Epoch 9/20\n",
            "2373/2375 [============================>.] - ETA: 0s - loss: 0.2184 - acc: 0.9287Epoch 1/20\n",
            " 928/2375 [==========>...................] - ETA: 1s - loss: 0.2318 - acc: 0.9267\n",
            "Epoch 00009: val_acc did not improve from 0.93158\n",
            "\n",
            "Epoch 00009: ReduceLROnPlateau reducing learning rate to 0.0004000000189989805.\n",
            "\n",
            "Epoch 00009: saving model to weights-cnn-filter.last_auto4.hdf5\n",
            "2375/2375 [==============================] - 72s 30ms/step - loss: 0.2184 - acc: 0.9287 - val_loss: 0.2464 - val_acc: 0.9232\n",
            "Epoch 10/20\n",
            "2374/2375 [============================>.] - ETA: 0s - loss: 0.1614 - acc: 0.9467Epoch 1/20\n",
            " 944/2375 [==========>...................] - ETA: 1s - loss: 0.1452 - acc: 0.9502\n",
            "Epoch 00010: val_acc improved from 0.93158 to 0.94842, saving model to weight-cnn-filter.best_10-0.95.hdf5\n",
            "\n",
            "Epoch 00010: saving model to weights-cnn-filter.last_auto4.hdf5\n",
            "2375/2375 [==============================] - 72s 30ms/step - loss: 0.1613 - acc: 0.9467 - val_loss: 0.1491 - val_acc: 0.9484\n",
            "Epoch 11/20\n",
            "2373/2375 [============================>.] - ETA: 0s - loss: 0.1446 - acc: 0.9509Epoch 1/20\n",
            " 928/2375 [==========>...................] - ETA: 1s - loss: 0.1450 - acc: 0.9461\n",
            "Epoch 00011: val_acc did not improve from 0.94842\n",
            "\n",
            "Epoch 00011: saving model to weights-cnn-filter.last_auto4.hdf5\n",
            "2375/2375 [==============================] - 72s 30ms/step - loss: 0.1449 - acc: 0.9509 - val_loss: 0.1476 - val_acc: 0.9453\n",
            "Epoch 12/20\n",
            "2373/2375 [============================>.] - ETA: 0s - loss: 0.1338 - acc: 0.9557Epoch 1/20\n",
            " 896/2375 [==========>...................] - ETA: 1s - loss: 0.1376 - acc: 0.9498\n",
            "Epoch 00012: val_acc improved from 0.94842 to 0.95053, saving model to weight-cnn-filter.best_12-0.95.hdf5\n",
            "\n",
            "Epoch 00012: saving model to weights-cnn-filter.last_auto4.hdf5\n",
            "2375/2375 [==============================] - 72s 30ms/step - loss: 0.1338 - acc: 0.9557 - val_loss: 0.1389 - val_acc: 0.9505\n",
            "Epoch 13/20\n",
            "2373/2375 [============================>.] - ETA: 0s - loss: 0.1321 - acc: 0.9565Epoch 1/20\n",
            " 950/2375 [===========>..................] - ETA: 1s - loss: 0.1412 - acc: 0.9505\n",
            "Epoch 00013: val_acc did not improve from 0.95053\n",
            "\n",
            "Epoch 00013: saving model to weights-cnn-filter.last_auto4.hdf5\n",
            "2375/2375 [==============================] - 72s 30ms/step - loss: 0.1320 - acc: 0.9565 - val_loss: 0.1442 - val_acc: 0.9505\n",
            "Epoch 14/20\n",
            "2373/2375 [============================>.] - ETA: 0s - loss: 0.1209 - acc: 0.9614Epoch 1/20\n",
            " 896/2375 [==========>...................] - ETA: 1s - loss: 0.1562 - acc: 0.9375\n",
            "Epoch 00014: val_acc did not improve from 0.95053\n",
            "\n",
            "Epoch 00014: saving model to weights-cnn-filter.last_auto4.hdf5\n",
            "2375/2375 [==============================] - 72s 30ms/step - loss: 0.1209 - acc: 0.9614 - val_loss: 0.1627 - val_acc: 0.9400\n",
            "Epoch 15/20\n",
            "2373/2375 [============================>.] - ETA: 0s - loss: 0.1152 - acc: 0.9611Epoch 1/20\n",
            " 896/2375 [==========>...................] - ETA: 1s - loss: 0.1643 - acc: 0.9386\n",
            "Epoch 00015: val_acc did not improve from 0.95053\n",
            "\n",
            "Epoch 00015: ReduceLROnPlateau reducing learning rate to 0.00016000000759959222.\n",
            "\n",
            "Epoch 00015: saving model to weights-cnn-filter.last_auto4.hdf5\n",
            "2375/2375 [==============================] - 72s 30ms/step - loss: 0.1153 - acc: 0.9611 - val_loss: 0.1669 - val_acc: 0.9411\n",
            "Epoch 16/20\n",
            "2374/2375 [============================>.] - ETA: 0s - loss: 0.0955 - acc: 0.9692Epoch 1/20\n",
            " 950/2375 [===========>..................] - ETA: 1s - loss: 0.1373 - acc: 0.9484\n",
            "Epoch 00016: val_acc did not improve from 0.95053\n",
            "\n",
            "Epoch 00016: saving model to weights-cnn-filter.last_auto4.hdf5\n",
            "2375/2375 [==============================] - 72s 30ms/step - loss: 0.0955 - acc: 0.9691 - val_loss: 0.1433 - val_acc: 0.9484\n",
            "Epoch 17/20\n",
            "2373/2375 [============================>.] - ETA: 0s - loss: 0.0867 - acc: 0.9726Epoch 1/20\n",
            " 896/2375 [==========>...................] - ETA: 1s - loss: 0.1469 - acc: 0.9498\n",
            "Epoch 00017: val_acc did not improve from 0.95053\n",
            "\n",
            "Epoch 00017: saving model to weights-cnn-filter.last_auto4.hdf5\n",
            "2375/2375 [==============================] - 72s 30ms/step - loss: 0.0867 - acc: 0.9725 - val_loss: 0.1501 - val_acc: 0.9495\n",
            "Epoch 18/20\n",
            "2373/2375 [============================>.] - ETA: 0s - loss: 0.0855 - acc: 0.9733Epoch 1/20\n",
            " 912/2375 [==========>...................] - ETA: 1s - loss: 0.1460 - acc: 0.9474\n",
            "Epoch 00018: val_acc did not improve from 0.95053\n",
            "\n",
            "Epoch 00018: ReduceLROnPlateau reducing learning rate to 6.40000042039901e-05.\n",
            "\n",
            "Epoch 00018: saving model to weights-cnn-filter.last_auto4.hdf5\n",
            "2375/2375 [==============================] - 72s 30ms/step - loss: 0.0854 - acc: 0.9733 - val_loss: 0.1509 - val_acc: 0.9474\n",
            "Epoch 19/20\n",
            "2373/2375 [============================>.] - ETA: 0s - loss: 0.0722 - acc: 0.9779Epoch 1/20\n",
            " 950/2375 [===========>..................] - ETA: 1s - loss: 0.1467 - acc: 0.9505\n",
            "Epoch 00019: val_acc did not improve from 0.95053\n",
            "\n",
            "Epoch 00019: saving model to weights-cnn-filter.last_auto4.hdf5\n",
            "2375/2375 [==============================] - 72s 30ms/step - loss: 0.0722 - acc: 0.9779 - val_loss: 0.1514 - val_acc: 0.9505\n",
            "Epoch 20/20\n",
            "2373/2375 [============================>.] - ETA: 0s - loss: 0.0721 - acc: 0.9778Epoch 1/20\n",
            " 950/2375 [===========>..................] - ETA: 1s - loss: 0.1719 - acc: 0.9400\n",
            "Epoch 00020: val_acc did not improve from 0.95053\n",
            "\n",
            "Epoch 00020: saving model to weights-cnn-filter.last_auto4.hdf5\n",
            "2375/2375 [==============================] - 72s 30ms/step - loss: 0.0721 - acc: 0.9777 - val_loss: 0.1772 - val_acc: 0.9400\n"
          ],
          "name": "stdout"
        }
      ]
    },
    {
      "cell_type": "code",
      "metadata": {
        "id": "W-UUTZ0DbvzL",
        "colab_type": "code",
        "outputId": "106776f2-f76f-464e-c57c-740ff0e98c5d",
        "colab": {
          "base_uri": "https://localhost:8080/",
          "height": 281
        }
      },
      "source": [
        "plt.plot(hist.history['acc'])\n",
        "plt.plot(hist.history['val_acc'])\n",
        "plt.title('Training for ' +str(20)+ ' epochs')\n",
        "plt.legend(['Training accuracy', 'Validation accuracy'], loc='lower right')\n",
        "plt.show()"
      ],
      "execution_count": 25,
      "outputs": [
        {
          "output_type": "display_data",
          "data": {
            "image/png": "[encoded data removed]",
            "text/plain": [
              "<Figure size 432x288 with 1 Axes>"
            ]
          },
          "metadata": {
            "tags": []
          }
        }
      ]
    },
    {
      "cell_type": "code",
      "metadata": {
        "id": "-SSKdU-8cGey",
        "colab_type": "code",
        "outputId": "10ec8b29-3a4b-4e2b-814d-51c1ff7d53ce",
        "colab": {
          "base_uri": "https://localhost:8080/",
          "height": 85
        }
      },
      "source": [
        "  model.load_weights(\"weight-cnn-filter.best_12-0.95.hdf5\")\n",
        "\n",
        "print(\"Train accuracy\", model.evaluate(X_train, y_train))  # Evaluate on train set\n",
        "print(\"Validation accuracy\", model.evaluate(X_valid, y_valid))  # Evaluate on test set"
      ],
      "execution_count": 26,
      "outputs": [
        {
          "output_type": "stream",
          "text": [
            "3800/3800 [==============================] - 2s 564us/sample - loss: 0.0699 - acc: 0.9758\n",
            "Train accuracy [0.0699031253080619, 0.9757895]\n",
            "950/950 [==============================] - 1s 622us/sample - loss: 0.1340 - acc: 0.9505\n",
            "Validation accuracy [0.1340311636579664, 0.9505263]\n"
          ],
          "name": "stdout"
        }
      ]
    },
    {
      "cell_type": "markdown",
      "metadata": {
        "id": "Zo5Sh47Vt1Oe",
        "colab_type": "text"
      },
      "source": [
        "# Confusion Matrix"
      ]
    },
    {
      "cell_type": "code",
      "metadata": {
        "id": "UlUt_qN7t3pj",
        "colab_type": "code",
        "outputId": "5794913a-e90f-4f35-e26f-cfeedbfafbc9",
        "colab": {
          "base_uri": "https://localhost:8080/",
          "height": 702
        }
      },
      "source": [
        "def plot_confusion_matrix(cm, classes, normalize=False, title='Confusion matrix',cmap=plt.cm.Blues):\n",
        "    fig = plt.figure(figsize=(10,10))\n",
        "    plt.imshow(cm, interpolation='nearest', cmap=cmap)\n",
        "    plt.title(title)\n",
        "    plt.colorbar()\n",
        "    tick_marks = np.arange(len(classes))\n",
        "    plt.xticks(tick_marks, classes, rotation=90)\n",
        "    plt.yticks(tick_marks, classes)\n",
        "\n",
        "    if normalize:\n",
        "        cm = cm.astype('float') / cm.sum(axis=1)[:, np.newaxis]\n",
        "\n",
        "    thresh = cm.max() / 2.\n",
        "    for i, j in itertools.product(range(cm.shape[0]), range(cm.shape[1])):\n",
        "        plt.text(j, i, cm[i, j],\n",
        "                 horizontalalignment=\"center\",\n",
        "                 color=\"white\" if cm[i, j] > thresh else \"black\")\n",
        "\n",
        "    plt.tight_layout()\n",
        "    plt.ylabel('True label')\n",
        "    plt.xlabel('Predicted label')\n",
        "\n",
        "# Predict the values from the validation dataset\n",
        "y_pred = model.predict(X_valid)\n",
        "y_pred_classes = np.argmax(y_pred, axis = 1) \n",
        "y_true = np.argmax(y_valid, axis = 1) \n",
        "\n",
        "# confusion matrix\n",
        "confusionMTX = confusion_matrix(y_true, y_pred_classes) \n",
        "\n",
        "# plot the confusion matrix\n",
        "plot_confusion_matrix(confusionMTX, classes = le.classes_) \n"
      ],
      "execution_count": 27,
      "outputs": [
        {
          "output_type": "display_data",
          "data": {
            "image/png": "[encoded data removed]",
            "text/plain": [
              "<Figure size 720x720 with 2 Axes>"
            ]
          },
          "metadata": {
            "tags": []
          }
        }
      ]
    },
    {
      "cell_type": "markdown",
      "metadata": {
        "id": "zUVMMx30uz07",
        "colab_type": "text"
      },
      "source": [
        "# Predicting on Test Set"
      ]
    },
    {
      "cell_type": "code",
      "metadata": {
        "id": "f4UxIw5GuzC8",
        "colab_type": "code",
        "outputId": "b50593b3-9462-4092-ef42-a1b3c117c970",
        "colab": {
          "base_uri": "https://localhost:8080/",
          "height": 34
        }
      },
      "source": [
        "path =  TEST_DIRECTORY + '/*.png'\n",
        "files = glob(path)\n",
        "\n",
        "testImg = []\n",
        "testId = []\n",
        "num = len(files)\n",
        "\n",
        "# Obtain images and resizing, obtain labels\n",
        "for img in files:\n",
        "    testId.append(img.split('/')[-1])  # Images id's\n",
        "    testImg.append(cv2.resize(cv2.imread(img), (IMG_WIDTH, IMG_HEIGHT)))\n",
        "\n",
        "testImg = np.asarray(testImg)  # Train images set\n",
        "\n",
        "print(testImg.shape)"
      ],
      "execution_count": 28,
      "outputs": [
        {
          "output_type": "stream",
          "text": [
            "(794, 70, 70, 3)\n"
          ],
          "name": "stdout"
        }
      ]
    },
    {
      "cell_type": "code",
      "metadata": {
        "id": "K-jw3g1y1BZj",
        "colab_type": "code",
        "colab": {}
      },
      "source": [
        "clearTestImg = []\n",
        "for img in testImg:\n",
        "    image = sharpen_image(segment_plant(img))\n",
        "    clearTestImg.append(image)\n",
        "    \n",
        "clearTestImg = np.asarray(clearTestImg)"
      ],
      "execution_count": 0,
      "outputs": []
    },
    {
      "cell_type": "code",
      "metadata": {
        "id": "fRSsTrquvZBD",
        "colab_type": "code",
        "colab": {}
      },
      "source": [
        "if FILTER == False:\n",
        "  testImg = testImg / 255\n",
        "else:\n",
        "  testImg = clearTestImg / 255\n"
      ],
      "execution_count": 0,
      "outputs": []
    },
    {
      "cell_type": "code",
      "metadata": {
        "id": "rcLkQ-19vv8I",
        "colab_type": "code",
        "colab": {}
      },
      "source": [
        "pred = model.predict(testImg)"
      ],
      "execution_count": 0,
      "outputs": []
    },
    {
      "cell_type": "code",
      "metadata": {
        "id": "RXYNXG4JvwcP",
        "colab_type": "code",
        "colab": {}
      },
      "source": [
        "# Write result to file\n",
        "predNum = np.argmax(pred, axis=1)\n",
        "predStr = le.classes_[predNum]\n",
        "\n",
        "res = {'file': testId, 'species': predStr}\n",
        "res = pd.DataFrame(res)\n",
        "res.to_csv(\"res.csv\", index=False)"
      ],
      "execution_count": 0,
      "outputs": []
    },
    {
      "cell_type": "code",
      "metadata": {
        "id": "cj3pM-UwI-rd",
        "colab_type": "code",
        "colab": {}
      },
      "source": [
        ""
      ],
      "execution_count": 0,
      "outputs": []
    }
  ]
}