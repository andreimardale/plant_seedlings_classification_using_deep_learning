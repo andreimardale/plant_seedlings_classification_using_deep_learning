{
  "nbformat": 4,
  "nbformat_minor": 0,
  "metadata": {
    "colab": {
      "name": "[SVM]_no_filter_CNN_feats.ipynb",
      "provenance": []
    },
    "kernelspec": {
      "name": "python3",
      "display_name": "Python 3"
    }
  },
  "cells": [
    {
      "cell_type": "code",
      "metadata": {
        "id": "Z2EC_WxcMTum",
        "colab_type": "code",
        "colab": {}
      },
      "source": [
        "from sklearn.svm import SVC\n",
        "import xgboost as xgb\n",
        "\n",
        "import numpy as np\n",
        "import pandas as pd"
      ],
      "execution_count": 0,
      "outputs": []
    },
    {
      "cell_type": "code",
      "metadata": {
        "id": "mvAKtIbNNF9G",
        "colab_type": "code",
        "colab": {}
      },
      "source": [
        "X_train = np.load(\"X_train.npy\")\n",
        "X_valid = np.load(\"X_valid.npy\")\n",
        "X_test = np.load(\"X_test.npy\")\n",
        "\n",
        "y_train = np.load(\"y_train.npy\")\n",
        "y_valid = np.load(\"y_valid.npy\")\n",
        "\n",
        "testId = np.load(\"testId.npy\")"
      ],
      "execution_count": 0,
      "outputs": []
    },
    {
      "cell_type": "code",
      "metadata": {
        "id": "-hnEh48yNSxF",
        "colab_type": "code",
        "colab": {
          "base_uri": "https://localhost:8080/",
          "height": 136
        },
        "outputId": "ce1558a6-a6ed-49f7-a60a-0d2b0eae1abd"
      },
      "source": [
        "xb = xgb.XGBClassifier()\n",
        "\n",
        "xb.fit(X_train,np.argmax(y_train,axis=1))"
      ],
      "execution_count": 12,
      "outputs": [
        {
          "output_type": "execute_result",
          "data": {
            "text/plain": [
              "XGBClassifier(base_score=0.5, booster='gbtree', colsample_bylevel=1,\n",
              "              colsample_bynode=1, colsample_bytree=1, gamma=0,\n",
              "              learning_rate=0.1, max_delta_step=0, max_depth=3,\n",
              "              min_child_weight=1, missing=None, n_estimators=100, n_jobs=1,\n",
              "              nthread=None, objective='multi:softprob', random_state=0,\n",
              "              reg_alpha=0, reg_lambda=1, scale_pos_weight=1, seed=None,\n",
              "              silent=None, subsample=1, verbosity=1)"
            ]
          },
          "metadata": {
            "tags": []
          },
          "execution_count": 12
        }
      ]
    },
    {
      "cell_type": "code",
      "metadata": {
        "id": "ZHorfYq1NYZx",
        "colab_type": "code",
        "colab": {
          "base_uri": "https://localhost:8080/",
          "height": 34
        },
        "outputId": "1905ad9a-03ed-4c7a-9ea6-1f82558897b4"
      },
      "source": [
        "xb.score(X_train,np.argmax(y_train,axis=1))"
      ],
      "execution_count": 13,
      "outputs": [
        {
          "output_type": "execute_result",
          "data": {
            "text/plain": [
              "1.0"
            ]
          },
          "metadata": {
            "tags": []
          },
          "execution_count": 13
        }
      ]
    },
    {
      "cell_type": "code",
      "metadata": {
        "id": "CqY_RPj7NibE",
        "colab_type": "code",
        "colab": {
          "base_uri": "https://localhost:8080/",
          "height": 34
        },
        "outputId": "c111bbee-9ed9-4b9c-9a70-a76c07d7da7c"
      },
      "source": [
        "xb.score(X_valid,np.argmax(y_valid,axis=1))"
      ],
      "execution_count": 14,
      "outputs": [
        {
          "output_type": "execute_result",
          "data": {
            "text/plain": [
              "0.9631578947368421"
            ]
          },
          "metadata": {
            "tags": []
          },
          "execution_count": 14
        }
      ]
    },
    {
      "cell_type": "code",
      "metadata": {
        "id": "4Taaw0GOOwI9",
        "colab_type": "code",
        "colab": {}
      },
      "source": [
        "classes = ['Black-grass', 'Charlock', 'Cleavers', 'Common Chickweed',\n",
        "       'Common wheat', 'Fat Hen', 'Loose Silky-bent', 'Maize',\n",
        "       'Scentless Mayweed', 'Shepherds Purse',\n",
        "       'Small-flowered Cranesbill', 'Sugar beet']"
      ],
      "execution_count": 0,
      "outputs": []
    },
    {
      "cell_type": "code",
      "metadata": {
        "id": "yd5TdIB2Nm9A",
        "colab_type": "code",
        "colab": {}
      },
      "source": [
        "pred = xb.predict(X_test)\n",
        "# Write result to file\n",
        "predStr = []\n",
        "for c in pred:\n",
        "  predStr.append(classes[c])\n",
        "  \n",
        "predStr = np.asarray(predStr)\n",
        "\n",
        "res = {'file': testId, 'species': predStr}\n",
        "res = pd.DataFrame(res)\n",
        "res.to_csv(\"res.csv\", index=False)"
      ],
      "execution_count": 0,
      "outputs": []
    }
  ]
}