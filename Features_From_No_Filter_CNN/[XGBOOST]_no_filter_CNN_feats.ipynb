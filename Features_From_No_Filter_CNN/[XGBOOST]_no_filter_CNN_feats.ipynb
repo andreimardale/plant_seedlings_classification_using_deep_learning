{
 "cells": [
  {
   "cell_type": "code",
   "execution_count": 0,
   "metadata": {
    "colab": {},
    "colab_type": "code",
    "id": "Z2EC_WxcMTum"
   },
   "outputs": [],
   "source": [
    "from sklearn.svm import SVC\n",
    "import xgboost as xgb\n",
    "\n",
    "import numpy as np\n",
    "import pandas as pd"
   ]
  },
  {
   "cell_type": "code",
   "execution_count": 0,
   "metadata": {
    "colab": {},
    "colab_type": "code",
    "id": "mvAKtIbNNF9G"
   },
   "outputs": [],
   "source": [
    "X_train = np.load(\"X_train.npy\")\n",
    "X_valid = np.load(\"X_valid.npy\")\n",
    "X_test = np.load(\"X_test.npy\")\n",
    "\n",
    "y_train = np.load(\"y_train.npy\")\n",
    "y_valid = np.load(\"y_valid.npy\")\n",
    "\n",
    "testId = np.load(\"testId.npy\")"
   ]
  },
  {
   "cell_type": "code",
   "execution_count": 12,
   "metadata": {
    "colab": {
     "base_uri": "https://localhost:8080/",
     "height": 136
    },
    "colab_type": "code",
    "id": "-hnEh48yNSxF",
    "outputId": "ce1558a6-a6ed-49f7-a60a-0d2b0eae1abd"
   },
   "outputs": [
    {
     "data": {
      "text/plain": [
       "XGBClassifier(base_score=0.5, booster='gbtree', colsample_bylevel=1,\n",
       "              colsample_bynode=1, colsample_bytree=1, gamma=0,\n",
       "              learning_rate=0.1, max_delta_step=0, max_depth=3,\n",
       "              min_child_weight=1, missing=None, n_estimators=100, n_jobs=1,\n",
       "              nthread=None, objective='multi:softprob', random_state=0,\n",
       "              reg_alpha=0, reg_lambda=1, scale_pos_weight=1, seed=None,\n",
       "              silent=None, subsample=1, verbosity=1)"
      ]
     },
     "execution_count": 12,
     "metadata": {
      "tags": []
     },
     "output_type": "execute_result"
    }
   ],
   "source": [
    "xb = xgb.XGBClassifier()\n",
    "\n",
    "xb.fit(X_train,np.argmax(y_train,axis=1))"
   ]
  },
  {
   "cell_type": "code",
   "execution_count": 13,
   "metadata": {
    "colab": {
     "base_uri": "https://localhost:8080/",
     "height": 34
    },
    "colab_type": "code",
    "id": "ZHorfYq1NYZx",
    "outputId": "1905ad9a-03ed-4c7a-9ea6-1f82558897b4"
   },
   "outputs": [
    {
     "data": {
      "text/plain": [
       "1.0"
      ]
     },
     "execution_count": 13,
     "metadata": {
      "tags": []
     },
     "output_type": "execute_result"
    }
   ],
   "source": [
    "xb.score(X_train,np.argmax(y_train,axis=1))"
   ]
  },
  {
   "cell_type": "code",
   "execution_count": 14,
   "metadata": {
    "colab": {
     "base_uri": "https://localhost:8080/",
     "height": 34
    },
    "colab_type": "code",
    "id": "CqY_RPj7NibE",
    "outputId": "c111bbee-9ed9-4b9c-9a70-a76c07d7da7c"
   },
   "outputs": [
    {
     "data": {
      "text/plain": [
       "0.9631578947368421"
      ]
     },
     "execution_count": 14,
     "metadata": {
      "tags": []
     },
     "output_type": "execute_result"
    }
   ],
   "source": [
    "xb.score(X_valid,np.argmax(y_valid,axis=1))"
   ]
  },
  {
   "cell_type": "code",
   "execution_count": 0,
   "metadata": {
    "colab": {},
    "colab_type": "code",
    "id": "4Taaw0GOOwI9"
   },
   "outputs": [],
   "source": [
    "classes = ['Black-grass', 'Charlock', 'Cleavers', 'Common Chickweed',\n",
    "       'Common wheat', 'Fat Hen', 'Loose Silky-bent', 'Maize',\n",
    "       'Scentless Mayweed', 'Shepherds Purse',\n",
    "       'Small-flowered Cranesbill', 'Sugar beet']"
   ]
  },
  {
   "cell_type": "code",
   "execution_count": 0,
   "metadata": {
    "colab": {},
    "colab_type": "code",
    "id": "yd5TdIB2Nm9A"
   },
   "outputs": [],
   "source": [
    "pred = xb.predict(X_test)\n",
    "# Write result to file\n",
    "predStr = []\n",
    "for c in pred:\n",
    "  predStr.append(classes[c])\n",
    "  \n",
    "predStr = np.asarray(predStr)\n",
    "\n",
    "res = {'file': testId, 'species': predStr}\n",
    "res = pd.DataFrame(res)\n",
    "res.to_csv(\"res.csv\", index=False)"
   ]
  }
 ],
 "metadata": {
  "colab": {
   "name": "[SVM]_no_filter_CNN_feats.ipynb",
   "provenance": []
  },
  "kernelspec": {
   "display_name": "Python 3",
   "language": "python",
   "name": "python3"
  },
  "language_info": {
   "codemirror_mode": {
    "name": "ipython",
    "version": 3
   },
   "file_extension": ".py",
   "mimetype": "text/x-python",
   "name": "python",
   "nbconvert_exporter": "python",
   "pygments_lexer": "ipython3",
   "version": "3.6.8"
  }
 },
 "nbformat": 4,
 "nbformat_minor": 1
}
